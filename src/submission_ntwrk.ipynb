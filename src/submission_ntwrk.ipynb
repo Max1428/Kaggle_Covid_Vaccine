{
  "nbformat": 4,
  "nbformat_minor": 0,
  "metadata": {
    "kernelspec": {
      "display_name": "Python 3",
      "language": "python",
      "name": "python3"
    },
    "language_info": {
      "codemirror_mode": {
        "name": "ipython",
        "version": 3
      },
      "file_extension": ".py",
      "mimetype": "text/x-python",
      "name": "python",
      "nbconvert_exporter": "python",
      "pygments_lexer": "ipython3",
      "version": "3.7.3"
    },
    "colab": {
      "name": "script_final_MaX_TF.ipynb",
      "provenance": [],
      "collapsed_sections": [
        "J6h4pBDtVkd3"
      ]
    },
    "accelerator": "GPU"
  },
  "cells": [
    {
      "cell_type": "markdown",
      "metadata": {
        "id": "RKwPk6MzOp5T"
      },
      "source": [
        "# Projet Deep Learning"
      ]
    },
    {
      "cell_type": "code",
      "metadata": {
        "id": "sZt-cMNMOp5U"
      },
      "source": [
        "# IMPORTATION des modules\n",
        "\n",
        "from google.colab import files\n",
        "import io\n",
        "\n",
        "import os\n",
        "import pandas as pd\n",
        "import numpy as np\n",
        "import pydot\n",
        "\n",
        "import matplotlib\n",
        "import matplotlib.pyplot as plt\n",
        "import plotly.express as px\n",
        "\n",
        "import tensorflow as tf\n",
        "from tensorflow import keras\n",
        "from tensorflow.keras import callbacks\n",
        "from tensorflow.keras import layers as L\n",
        "from keras.models import Sequential\n",
        "from keras.layers import Dense\n",
        "from keras.wrappers.scikit_learn import KerasClassifier\n",
        "from keras.utils import plot_model\n",
        "\n",
        "import random\n",
        "\n",
        "from sklearn import preprocessing\n",
        "from sklearn.model_selection import train_test_split\n",
        "from sklearn.model_selection import cross_val_score\n",
        "from sklearn.model_selection import KFold\n",
        "\n",
        "import seaborn as sns\n",
        "\n",
        "from IPython.display import display, HTML"
      ],
      "execution_count": 1,
      "outputs": []
    },
    {
      "cell_type": "code",
      "metadata": {
        "id": "FsUZ6koqOp5g",
        "outputId": "fa403cbf-3919-4e7a-9510-24ea3c7c5f28",
        "colab": {
          "resources": {
            "http://localhost:8080/nbextensions/google.colab/files.js": {
              "data": "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",
              "ok": true,
              "headers": [
                [
                  "content-type",
                  "application/javascript"
                ]
              ],
              "status": 200,
              "status_text": ""
            }
          },
          "base_uri": "https://localhost:8080/",
          "height": 242
        }
      },
      "source": [
        "# Files : train.json, test.json, outputraw1587 (weight), vienna_train(Vienna RNA), vienna_test(Vienna RNA) & sample_submission.csv\n",
        "\n",
        "uploaded = files.upload()"
      ],
      "execution_count": 2,
      "outputs": [
        {
          "output_type": "display_data",
          "data": {
            "text/html": [
              "\n",
              "     <input type=\"file\" id=\"files-339f066a-cb87-4aeb-bc1d-0d9778fe1985\" name=\"files[]\" multiple disabled\n",
              "        style=\"border:none\" />\n",
              "     <output id=\"result-339f066a-cb87-4aeb-bc1d-0d9778fe1985\">\n",
              "      Upload widget is only available when the cell has been executed in the\n",
              "      current browser session. Please rerun this cell to enable.\n",
              "      </output>\n",
              "      <script src=\"/nbextensions/google.colab/files.js\"></script> "
            ],
            "text/plain": [
              "<IPython.core.display.HTML object>"
            ]
          },
          "metadata": {
            "tags": []
          }
        },
        {
          "output_type": "stream",
          "text": [
            "Saving outputraw1587.txt.clstr to outputraw1587.txt (2).clstr\n",
            "Saving sample_submission.csv to sample_submission (1).csv\n",
            "Saving test.json to test (2).json\n",
            "Saving train.json to train (2).json\n",
            "Saving vienna_test.txt to vienna_test (1).txt\n",
            "Saving vienna_train.txt to vienna_train (1).txt\n"
          ],
          "name": "stdout"
        }
      ]
    },
    {
      "cell_type": "code",
      "metadata": {
        "id": "o1UxrzKYOp5j"
      },
      "source": [
        "pred_cols = ['reactivity', 'deg_Mg_pH10', 'deg_Mg_50C', 'deg_pH10', 'deg_50C']\n",
        "input_cols = ['sequence', 'structure', 'predicted_loop_type']"
      ],
      "execution_count": 3,
      "outputs": []
    },
    {
      "cell_type": "code",
      "metadata": {
        "id": "CZZllQ6HOp5o"
      },
      "source": [
        "train = pd.read_json(io.BytesIO(uploaded['train.json']), lines=True).drop('index', axis=1)\n",
        "test = pd.read_json(io.BytesIO(uploaded['test.json']), lines=True).drop('index', axis=1)\n",
        "sample_sub = pd.read_csv(io.BytesIO(uploaded['sample_submission.csv']))"
      ],
      "execution_count": 24,
      "outputs": []
    },
    {
      "cell_type": "code",
      "metadata": {
        "id": "2eqG0YRwOp5x",
        "outputId": "440dfc40-71cd-4d3b-9bd6-cc8128eac109",
        "colab": {
          "base_uri": "https://localhost:8080/",
          "height": 34
        }
      },
      "source": [
        "# sélection des séquences avec un signal > 1 (minimisation du bruit de fond)\n",
        "train = train.query(\"signal_to_noise >= 1\")\n",
        "train = train.query(\"SN_filter == 1\")\n",
        "train.shape"
      ],
      "execution_count": 39,
      "outputs": [
        {
          "output_type": "execute_result",
          "data": {
            "text/plain": [
              "(1587, 18)"
            ]
          },
          "metadata": {
            "tags": []
          },
          "execution_count": 39
        }
      ]
    },
    {
      "cell_type": "markdown",
      "metadata": {
        "id": "J6h4pBDtVkd3"
      },
      "source": [
        "## Exploration et représentation des données"
      ]
    },
    {
      "cell_type": "code",
      "metadata": {
        "id": "0HhdRPjnMC8K"
      },
      "source": [
        "# traitement du dataframe\n",
        "train.columns\n",
        "df = train[['reactivity', 'deg_Mg_pH10', 'deg_Mg_50C', 'deg_pH10', 'deg_50C','reactivity_error',\n",
        "       'deg_error_Mg_pH10', 'deg_error_pH10', 'deg_error_Mg_50C',\n",
        "       'deg_error_50C']]\n",
        "df = df.rename(columns = {'reactivity_error' : 'error_reactivity','deg_error_Mg_pH10':'error_deg_Mg_pH10',\n",
        "                          'deg_error_pH10':'error_deg_pH10','deg_error_Mg_50C':'error_deg_Mg_50C',\n",
        "                      'deg_error_50C':'error_deg_50C'})\n",
        "df = df.melt(var_name='variables',value_name='values')"
      ],
      "execution_count": 6,
      "outputs": []
    },
    {
      "cell_type": "code",
      "metadata": {
        "id": "O1TVKAvKOp51"
      },
      "source": [
        "errors = []\n",
        "for i in range(df.shape[0]):\n",
        "  if 'error' in df.iloc[i,0]:\n",
        "    df.iloc[i,0] = df.iloc[i,0][df.iloc[i,0].index('error')+6:]\n",
        "    errors.append('error')\n",
        "  else :\n",
        "    errors.append('mesured')\n",
        "  somme = 0\n",
        "  lenval = list(df.iloc[i])[1]\n",
        "  for j in range(len(lenval)):\n",
        "    somme +=lenval[j]\n",
        "  df.iloc[i,1] = (somme/len(lenval))\n",
        "\n",
        "df.iloc[:,1] = df.iloc[:,1].astype(np.float64)\n",
        "df['group'] = errors"
      ],
      "execution_count": 7,
      "outputs": []
    },
    {
      "cell_type": "code",
      "metadata": {
        "id": "dMw-LX9wOp54",
        "outputId": "1788e400-9ead-4d18-f683-997538ac51c2",
        "colab": {
          "base_uri": "https://localhost:8080/",
          "height": 0
        }
      },
      "source": [
        "ax = sns.violinplot(y='variables',x='values',data=df,hue='group',split = True,palette=\"bright\",scale=\"width\")"
      ],
      "execution_count": 8,
      "outputs": [
        {
          "output_type": "display_data",
          "data": {
            "image/png": "[encoded data removed]",
            "text/plain": [
              "<Figure size 432x288 with 1 Axes>"
            ]
          },
          "metadata": {
            "tags": [],
            "needs_background": "light"
          }
        }
      ]
    },
    {
      "cell_type": "code",
      "metadata": {
        "id": "-GrazdnjOp56"
      },
      "source": [
        "def extract(name,data):\n",
        "  mydict = {}\n",
        "  indexcolname = list(train.columns).index(name)\n",
        "  for i,s in enumerate(data[name]):\n",
        "    for pos in range(68): #91 if change to test\n",
        "      if data.iloc[i,3][pos] not in mydict:\n",
        "        mydict[data.iloc[i,3][pos]] = []\n",
        "      mydict[data.iloc[i,3][pos]].append(data.iloc[i,indexcolname][pos])\n",
        "  return mydict  "
      ],
      "execution_count": 9,
      "outputs": []
    },
    {
      "cell_type": "code",
      "metadata": {
        "id": "gPU3KURUOp58",
        "outputId": "4ba30d61-ce44-4ac6-85dd-f5187117c1e9",
        "colab": {
          "base_uri": "https://localhost:8080/",
          "height": 0
        }
      },
      "source": [
        "name = pred_cols[0]\n",
        "dt_reactivity = extract(name,train)\n",
        "data_reac = pd.DataFrame(dict([ (k,pd.Series(v)) for k,v in dt_reactivity.items() ]))\n",
        "dr = data_reac.melt(var_name='predicted loop type',value_name=name)\n",
        "ax = sns.violinplot(x='predicted loop type',y=name,data=dr,palette=\"bright\")"
      ],
      "execution_count": 10,
      "outputs": [
        {
          "output_type": "display_data",
          "data": {
            "image/png": "[encoded data removed]",
            "text/plain": [
              "<Figure size 432x288 with 1 Axes>"
            ]
          },
          "metadata": {
            "tags": [],
            "needs_background": "light"
          }
        }
      ]
    },
    {
      "cell_type": "code",
      "metadata": {
        "id": "Ed1FgVmMOp5_",
        "outputId": "6b323e09-867d-499d-d0bb-d1d5a5d5d301",
        "colab": {
          "base_uri": "https://localhost:8080/",
          "height": 0
        }
      },
      "source": [
        "name = pred_cols[1]\n",
        "dt_reactivity = extract(name,train)\n",
        "data_reac = pd.DataFrame(dict([ (k,pd.Series(v)) for k,v in dt_reactivity.items() ]))\n",
        "dr = data_reac.melt(var_name='predicted loop type',value_name=name)\n",
        "ax = sns.violinplot(x='predicted loop type',y=name,data=dr,palette=\"bright\")"
      ],
      "execution_count": 11,
      "outputs": [
        {
          "output_type": "display_data",
          "data": {
            "image/png": "[encoded data removed]",
            "text/plain": [
              "<Figure size 432x288 with 1 Axes>"
            ]
          },
          "metadata": {
            "tags": [],
            "needs_background": "light"
          }
        }
      ]
    },
    {
      "cell_type": "code",
      "metadata": {
        "id": "i1OUZtrHOp6B",
        "outputId": "9214f2a4-fb33-48b6-b9db-3299f433a320",
        "colab": {
          "base_uri": "https://localhost:8080/",
          "height": 0
        }
      },
      "source": [
        "name = pred_cols[2]\n",
        "dt_reactivity = extract(name,train)\n",
        "data_reac = pd.DataFrame(dict([ (k,pd.Series(v)) for k,v in dt_reactivity.items() ]))\n",
        "dr = data_reac.melt(var_name='predicted loop type',value_name=name)\n",
        "ax = sns.violinplot(x='predicted loop type',y=name,data=dr,palette=\"bright\")"
      ],
      "execution_count": 12,
      "outputs": [
        {
          "output_type": "display_data",
          "data": {
            "image/png": "[encoded data removed]",
            "text/plain": [
              "<Figure size 432x288 with 1 Axes>"
            ]
          },
          "metadata": {
            "tags": [],
            "needs_background": "light"
          }
        }
      ]
    },
    {
      "cell_type": "code",
      "metadata": {
        "id": "vniRLjO-Op6D",
        "outputId": "c7904f8a-7c65-4edf-e642-115956e4475b",
        "colab": {
          "base_uri": "https://localhost:8080/",
          "height": 0
        }
      },
      "source": [
        "name = pred_cols[3]\n",
        "dt_reactivity = extract(name,train)\n",
        "data_reac = pd.DataFrame(dict([ (k,pd.Series(v)) for k,v in dt_reactivity.items() ]))\n",
        "dr = data_reac.melt(var_name='predicted loop type',value_name=name)\n",
        "ax = sns.violinplot(x='predicted loop type',y=name,data=dr,palette=\"bright\")"
      ],
      "execution_count": 13,
      "outputs": [
        {
          "output_type": "display_data",
          "data": {
            "image/png": "[encoded data removed]",
            "text/plain": [
              "<Figure size 432x288 with 1 Axes>"
            ]
          },
          "metadata": {
            "tags": [],
            "needs_background": "light"
          }
        }
      ]
    },
    {
      "cell_type": "code",
      "metadata": {
        "id": "3rZlNx8GOp6G",
        "outputId": "500985a8-a299-4ee1-ca4c-f4942c3e2891",
        "colab": {
          "base_uri": "https://localhost:8080/",
          "height": 0
        }
      },
      "source": [
        "name = pred_cols[4]\n",
        "dt_reactivity = extract(name,train)\n",
        "data_reac = pd.DataFrame(dict([ (k,pd.Series(v)) for k,v in dt_reactivity.items() ]))\n",
        "dr = data_reac.melt(var_name='predicted loop type',value_name=name)\n",
        "ax = sns.violinplot(x='predicted loop type',y=name,data=dr,palette=\"bright\")"
      ],
      "execution_count": 14,
      "outputs": [
        {
          "output_type": "display_data",
          "data": {
            "image/png": "[encoded data removed]",
            "text/plain": [
              "<Figure size 432x288 with 1 Axes>"
            ]
          },
          "metadata": {
            "tags": [],
            "needs_background": "light"
          }
        }
      ]
    },
    {
      "cell_type": "markdown",
      "metadata": {
        "id": "IhxIaYVoWAbT"
      },
      "source": [
        "## Clusterisation des séquences"
      ]
    },
    {
      "cell_type": "code",
      "metadata": {
        "id": "9nPASxMDOp6X"
      },
      "source": [
        "def extract_clusters(clstr_file):\n",
        "    \"\"\"Extract clusters from .clstr file and return a dict \n",
        "    with keys = clusters and dict[key] = [clustersize,[sequences]]\n",
        "    \"\"\"\n",
        "    with open(clstr_file,'r') as file:\n",
        "        cluster = {}\n",
        "        sequences = []\n",
        "        clusternum = 1\n",
        "        entiers = [\"0\",\"1\",\"2\",\"3\",\"4\",\"5\",\"6\",\"7\",\"8\",\"9\"]\n",
        "        clustsize = 0\n",
        "        rmb = 0\n",
        "        for line in file:\n",
        "            if line[0] != '>':\n",
        "                rmb += 1\n",
        "                if rmb > 9:\n",
        "                    clustsize = int(line[0:2]) + 1\n",
        "                    seq = line[14:18]\n",
        "                else:\n",
        "                    clustsize = int(line[0]) + 1\n",
        "                    seq = line[13:17]\n",
        "                for i,let in enumerate(seq):\n",
        "                    if let not in entiers:\n",
        "                        seq = seq[0:i]\n",
        "                        break\n",
        "                sequences.append(seq)\n",
        "            else :\n",
        "                if clustsize >= 0:\n",
        "                    cluster[clusternum] = [clustsize,sequences]\n",
        "                    clusternum += 1\n",
        "                sequences = []\n",
        "                rmb = 0\n",
        "    return cluster\n",
        "\n",
        "def construct_weight(clustering,dim_vector):\n",
        "    \"\"\"\n",
        "    Construct the weight vector from a dict\n",
        "    \"\"\"\n",
        "    weights = list(range(dim_vector))\n",
        "    for key in clustering.keys():\n",
        "        if key == 0:\n",
        "            continue\n",
        "        for numseq in clustering[key][1]:\n",
        "            weights[int(numseq)-1] = float(1/clustering[key][0])\n",
        "    return weights"
      ],
      "execution_count": 40,
      "outputs": []
    },
    {
      "cell_type": "code",
      "metadata": {
        "id": "UAbC2jPBOp6Z"
      },
      "source": [
        "clustering = extract_clusters('outputraw1587.txt.clstr') \n",
        "weights = construct_weight(clustering, train.shape[0])"
      ],
      "execution_count": 41,
      "outputs": []
    },
    {
      "cell_type": "markdown",
      "metadata": {
        "id": "wDgiPJmIWKpu"
      },
      "source": [
        "## Apprentissage"
      ]
    },
    {
      "cell_type": "code",
      "metadata": {
        "id": "zJzsFASFWCTs"
      },
      "source": [
        "pred_cols = ['reactivity', 'deg_Mg_pH10', 'deg_Mg_50C', 'deg_pH10', 'deg_50C']\n",
        "input_cols = ['sequence', 'structure', 'predicted_loop_type']"
      ],
      "execution_count": 42,
      "outputs": []
    },
    {
      "cell_type": "code",
      "metadata": {
        "id": "yxifueRvOp6b"
      },
      "source": [
        "def preprocess_inputs(df,input_cols):\n",
        "    \"\"\"\n",
        "    Converts inputs into one-hot\n",
        "    \"\"\"\n",
        "    output = []\n",
        "    for i in range(len(input_cols)):\n",
        "        tokenizer = keras.preprocessing.text.Tokenizer(char_level=True)\n",
        "        tokenizer.fit_on_texts(np.asarray(df[input_cols[i]]))\n",
        "        tmp = tokenizer.texts_to_sequences(np.asarray(df[input_cols[i]]))\n",
        "        new_var = np.asarray(keras.utils.to_categorical(tmp)[:,:,1:])\n",
        "        if new_var.shape[1] != 130:\n",
        "            longer = np.full((new_var.shape[0], 130, new_var.shape[2]), np.float32(0))\n",
        "            for seq_index in range(len(new_var)):\n",
        "                tmp = new_var[seq_index]\n",
        "                row_len = len(tmp[0])\n",
        "                new_line = np.full(row_len, -10, np.float32)\n",
        "                while len(tmp) != 130:\n",
        "                    tmp = np.vstack((tmp, new_line))\n",
        "                longer[seq_index] = tmp\n",
        "            output.append(longer)\n",
        "        else:\n",
        "            output.append(new_var)\n",
        "    return output"
      ],
      "execution_count": 43,
      "outputs": []
    },
    {
      "cell_type": "code",
      "metadata": {
        "id": "KJIf8y-tOp6d"
      },
      "source": [
        "def merge_inputs(inputs):\n",
        "    \"\"\"\n",
        "    Merges the one-hot inputs by columns\n",
        "    transform in numpy array\n",
        "    \"\"\"\n",
        "    size = len(inputs[0])\n",
        "    output = []\n",
        "    for i in range(size):\n",
        "        output.append(np.concatenate((inputs[0][i], inputs[1][i], inputs[2][i]), axis = 1))\n",
        "    return np.asarray(output)"
      ],
      "execution_count": 44,
      "outputs": []
    },
    {
      "cell_type": "code",
      "metadata": {
        "id": "TS8bDve8Op6f"
      },
      "source": [
        "def preprocess_results(df, results, train = True):\n",
        "    \"\"\"\n",
        "    Makes sure that the results are in the appropriate format:\n",
        "        [layers,lines,columns] in an np array\n",
        "    \"\"\"\n",
        "    tmp = np.asarray(df[results])\n",
        "    size = len(tmp[0])\n",
        "    output = np.zeros((len(tmp),len(tmp[0][0]),len(results)))\n",
        "    for i in range(len(results)):\n",
        "        for j in range(size):\n",
        "            tmp[i,j] = np.asarray(tmp[i,j])\n",
        "    for i in range(len(tmp)):\n",
        "        output[i] = np.vstack((tmp[i,0], tmp[i,1], tmp[i,2], tmp[i,3], tmp[i, 4]))[:,:].T\n",
        "    return output"
      ],
      "execution_count": 45,
      "outputs": []
    },
    {
      "cell_type": "code",
      "metadata": {
        "id": "-fl4HZlKemZ4"
      },
      "source": [
        "def MCRMSE(y_true, y_pred):\n",
        "    colwise_mse = tf.reduce_mean(tf.square(y_true - y_pred), axis=(0, 1))\n",
        "    return tf.reduce_mean(tf.sqrt(colwise_mse), axis=-1)"
      ],
      "execution_count": 46,
      "outputs": []
    },
    {
      "cell_type": "code",
      "metadata": {
        "id": "qX0TWyM2o5DA"
      },
      "source": [
        "# Submission private/public test\n",
        "test_private = test[test.seq_length == 130]\n",
        "test_public = test[test.seq_length == 107]\n",
        "\n",
        "# Encoding\n",
        "inputs_public_array = merge_inputs(preprocess_inputs(test_public, input_cols))\n",
        "inputs_private_array = merge_inputs(preprocess_inputs(test_private, input_cols))"
      ],
      "execution_count": 47,
      "outputs": []
    },
    {
      "cell_type": "code",
      "metadata": {
        "id": "3J19I0Cpekag"
      },
      "source": [
        "def submission_into_csv(public_predicted, private_predicted, test_public, test_private,\n",
        "                        columns = pred_cols, sheet_csv = sample_sub) :\n",
        "    ''' fonction pour soumettre les résultats dans le fichier csv Kaggle\n",
        "    arguments :\n",
        "        - test_public & test_private = df\n",
        "        - public_predicted & test_predicted = model trained\n",
        "      returns df\n",
        "    '''\n",
        "    \n",
        "    preds_gru = []\n",
        "\n",
        "    for df, preds in [(test_public, public_full_predicted), (test_private, private_full_predicted)]:\n",
        "        for i, uid in enumerate(df.id):\n",
        "            single_pred = preds[i]\n",
        "\n",
        "            single_df = pd.DataFrame(single_pred, columns=columns)\n",
        "            single_df['id_seqpos'] = [f'{uid}_{x}' for x in range(single_df.shape[0])]\n",
        "\n",
        "            preds_gru.append(single_df)\n",
        "\n",
        "    preds_gru_df = pd.concat(preds_gru)\n",
        "    submission = sheet_csv[['id_seqpos']].merge(preds_gru_df, on=['id_seqpos'])\n",
        "    return submission\n"
      ],
      "execution_count": 85,
      "outputs": []
    },
    {
      "cell_type": "code",
      "metadata": {
        "id": "4WQr1KRNOp6i",
        "outputId": "dfd21077-6a7e-46a4-96d9-5967b9b84f78",
        "colab": {
          "base_uri": "https://localhost:8080/",
          "height": 34
        }
      },
      "source": [
        "# one hot encoding\n",
        "inputs_ohe = preprocess_inputs(train, input_cols)\n",
        "inputs_array = merge_inputs(inputs_ohe)\n",
        "print(inputs_array.shape)"
      ],
      "execution_count": 49,
      "outputs": [
        {
          "output_type": "stream",
          "text": [
            "(1587, 130, 14)\n"
          ],
          "name": "stdout"
        }
      ]
    },
    {
      "cell_type": "code",
      "metadata": {
        "id": "xIMk4qo1Op6m",
        "outputId": "896636fa-f780-4bb5-8965-511ba9d77ed5",
        "colab": {
          "base_uri": "https://localhost:8080/",
          "height": 34
        }
      },
      "source": [
        "expected_results = preprocess_results(train, pred_cols)\n",
        "expected_results.shape"
      ],
      "execution_count": 50,
      "outputs": [
        {
          "output_type": "execute_result",
          "data": {
            "text/plain": [
              "(1587, 68, 5)"
            ]
          },
          "metadata": {
            "tags": []
          },
          "execution_count": 50
        }
      ]
    },
    {
      "cell_type": "code",
      "metadata": {
        "id": "VRvdz5PCOp6p"
      },
      "source": [
        "#### MODEL GRU Bidirectionnal ####\n",
        "\n",
        "def build_gru(output_length, lr=0.001, input_shape = (130,14), \n",
        "              space_dropout = 0.2, \n",
        "              masking_val = np.float32(-10)) :\n",
        "    \n",
        "    opt = tf.keras.optimizers.Adam(learning_rate = lr)\n",
        "\n",
        "    inputs = L.Input(shape = input_shape)\n",
        "    mask   = L.Masking(mask_value=np.float32(masking_val))(inputs)\n",
        "    mask   = L.SpatialDropout1D(space_dropout)(mask)\n",
        "    \n",
        "    x1 = L.Bidirectional(L.GRU(units = 300, dropout = 0.2, return_sequences = True))(mask)\n",
        "    x2 = L.Bidirectional(L.GRU(units = 150, dropout = 0.2, return_sequences = True))(x1)\n",
        "    x3 = L.Bidirectional(L.GRU(units = 70,  dropout = 0.2, return_sequences = True))(x2)\n",
        "    \n",
        "    # cut masking values\n",
        "    sliced_layer = x3[:, :output_length]\n",
        "    out_layer = L.Dense(5, activation = 'linear')(sliced_layer)\n",
        "    \n",
        "    model_gru = tf.keras.Model(inputs = inputs, outputs = out_layer)\n",
        "    model_gru.compile(optimizer = opt, loss = 'mse', metrics = [MCRMSE])\n",
        "    \n",
        "    return model_gru"
      ],
      "execution_count": 51,
      "outputs": []
    },
    {
      "cell_type": "code",
      "metadata": {
        "id": "yFu1W_ePOp6r",
        "outputId": "e3a0ea1e-de4e-42ce-9777-560bfbf4d19a",
        "colab": {
          "base_uri": "https://localhost:8080/",
          "height": 425
        }
      },
      "source": [
        "model_gru = build_gru(output_length = 68)\n",
        "model_gru.summary()\n",
        "\n",
        "callback = [tf.keras.callbacks.EarlyStopping(monitor = \"val_loss\", patience = 10), \n",
        "            tf.keras.callbacks.ModelCheckpoint('trained.h5'),\n",
        "            tf.keras.callbacks.ReduceLROnPlateau(patience=5)]"
      ],
      "execution_count": 52,
      "outputs": [
        {
          "output_type": "stream",
          "text": [
            "Model: \"functional_11\"\n",
            "_________________________________________________________________\n",
            "Layer (type)                 Output Shape              Param #   \n",
            "=================================================================\n",
            "input_6 (InputLayer)         [(None, 130, 14)]         0         \n",
            "_________________________________________________________________\n",
            "masking_5 (Masking)          (None, 130, 14)           0         \n",
            "_________________________________________________________________\n",
            "spatial_dropout1d_5 (Spatial (None, 130, 14)           0         \n",
            "_________________________________________________________________\n",
            "bidirectional_15 (Bidirectio (None, 130, 600)          568800    \n",
            "_________________________________________________________________\n",
            "bidirectional_16 (Bidirectio (None, 130, 300)          676800    \n",
            "_________________________________________________________________\n",
            "bidirectional_17 (Bidirectio (None, 130, 140)          156240    \n",
            "_________________________________________________________________\n",
            "tf_op_layer_strided_slice_5  [(None, 68, 140)]         0         \n",
            "_________________________________________________________________\n",
            "dense_5 (Dense)              (None, 68, 5)             705       \n",
            "=================================================================\n",
            "Total params: 1,402,545\n",
            "Trainable params: 1,402,545\n",
            "Non-trainable params: 0\n",
            "_________________________________________________________________\n"
          ],
          "name": "stdout"
        }
      ]
    },
    {
      "cell_type": "code",
      "metadata": {
        "id": "AO-zR5GWOp6x",
        "outputId": "f46ceefe-14bd-4629-af5d-4e57e355febb",
        "colab": {
          "base_uri": "https://localhost:8080/",
          "height": 1000
        }
      },
      "source": [
        "#================= TRAINING w/o weight ================\n",
        "            \n",
        "history_training = model_gru.fit(\n",
        "    inputs_array, expected_results,\n",
        "    batch_size=64,\n",
        "    epochs=500,\n",
        "    validation_split = 0.2,\n",
        "    callbacks = callback,\n",
        "    shuffle = True,\n",
        "    verbose=1)"
      ],
      "execution_count": 53,
      "outputs": [
        {
          "output_type": "stream",
          "text": [
            "Epoch 1/500\n",
            "20/20 [==============================] - 7s 369ms/step - loss: 0.2251 - MCRMSE: 0.4677 - val_loss: 0.1642 - val_MCRMSE: 0.4025\n",
            "Epoch 2/500\n",
            "20/20 [==============================] - 2s 118ms/step - loss: 0.1707 - MCRMSE: 0.4106 - val_loss: 0.1453 - val_MCRMSE: 0.3790\n",
            "Epoch 3/500\n",
            "20/20 [==============================] - 2s 118ms/step - loss: 0.1557 - MCRMSE: 0.3923 - val_loss: 0.1399 - val_MCRMSE: 0.3719\n",
            "Epoch 4/500\n",
            "20/20 [==============================] - 2s 118ms/step - loss: 0.1476 - MCRMSE: 0.3823 - val_loss: 0.1325 - val_MCRMSE: 0.3620\n",
            "Epoch 5/500\n",
            "20/20 [==============================] - 2s 118ms/step - loss: 0.1401 - MCRMSE: 0.3723 - val_loss: 0.1245 - val_MCRMSE: 0.3516\n",
            "Epoch 6/500\n",
            "20/20 [==============================] - 2s 118ms/step - loss: 0.1337 - MCRMSE: 0.3641 - val_loss: 0.1171 - val_MCRMSE: 0.3409\n",
            "Epoch 7/500\n",
            "20/20 [==============================] - 2s 118ms/step - loss: 0.1275 - MCRMSE: 0.3554 - val_loss: 0.1143 - val_MCRMSE: 0.3370\n",
            "Epoch 8/500\n",
            "20/20 [==============================] - 2s 118ms/step - loss: 0.1242 - MCRMSE: 0.3511 - val_loss: 0.1104 - val_MCRMSE: 0.3309\n",
            "Epoch 9/500\n",
            "20/20 [==============================] - 2s 118ms/step - loss: 0.1222 - MCRMSE: 0.3482 - val_loss: 0.1079 - val_MCRMSE: 0.3272\n",
            "Epoch 10/500\n",
            "20/20 [==============================] - 2s 118ms/step - loss: 0.1183 - MCRMSE: 0.3424 - val_loss: 0.1059 - val_MCRMSE: 0.3242\n",
            "Epoch 11/500\n",
            "20/20 [==============================] - 2s 118ms/step - loss: 0.1170 - MCRMSE: 0.3406 - val_loss: 0.1049 - val_MCRMSE: 0.3226\n",
            "Epoch 12/500\n",
            "20/20 [==============================] - 2s 118ms/step - loss: 0.1162 - MCRMSE: 0.3394 - val_loss: 0.1014 - val_MCRMSE: 0.3172\n",
            "Epoch 13/500\n",
            "20/20 [==============================] - 2s 119ms/step - loss: 0.1138 - MCRMSE: 0.3356 - val_loss: 0.1005 - val_MCRMSE: 0.3158\n",
            "Epoch 14/500\n",
            "20/20 [==============================] - 2s 118ms/step - loss: 0.1127 - MCRMSE: 0.3341 - val_loss: 0.0989 - val_MCRMSE: 0.3132\n",
            "Epoch 15/500\n",
            "20/20 [==============================] - 2s 118ms/step - loss: 0.1110 - MCRMSE: 0.3316 - val_loss: 0.0973 - val_MCRMSE: 0.3107\n",
            "Epoch 16/500\n",
            "20/20 [==============================] - 2s 119ms/step - loss: 0.1099 - MCRMSE: 0.3299 - val_loss: 0.0989 - val_MCRMSE: 0.3132\n",
            "Epoch 17/500\n",
            "20/20 [==============================] - 2s 119ms/step - loss: 0.1090 - MCRMSE: 0.3285 - val_loss: 0.0966 - val_MCRMSE: 0.3096\n",
            "Epoch 18/500\n",
            "20/20 [==============================] - 2s 119ms/step - loss: 0.1073 - MCRMSE: 0.3258 - val_loss: 0.0958 - val_MCRMSE: 0.3081\n",
            "Epoch 19/500\n",
            "20/20 [==============================] - 2s 117ms/step - loss: 0.1058 - MCRMSE: 0.3238 - val_loss: 0.0921 - val_MCRMSE: 0.3022\n",
            "Epoch 20/500\n",
            "20/20 [==============================] - 2s 118ms/step - loss: 0.1045 - MCRMSE: 0.3216 - val_loss: 0.0904 - val_MCRMSE: 0.2995\n",
            "Epoch 21/500\n",
            "20/20 [==============================] - 2s 118ms/step - loss: 0.1042 - MCRMSE: 0.3214 - val_loss: 0.0876 - val_MCRMSE: 0.2949\n",
            "Epoch 22/500\n",
            "20/20 [==============================] - 2s 118ms/step - loss: 0.1008 - MCRMSE: 0.3161 - val_loss: 0.0863 - val_MCRMSE: 0.2927\n",
            "Epoch 23/500\n",
            "20/20 [==============================] - 2s 119ms/step - loss: 0.0999 - MCRMSE: 0.3143 - val_loss: 0.0857 - val_MCRMSE: 0.2917\n",
            "Epoch 24/500\n",
            "20/20 [==============================] - 2s 118ms/step - loss: 0.0987 - MCRMSE: 0.3129 - val_loss: 0.0856 - val_MCRMSE: 0.2915\n",
            "Epoch 25/500\n",
            "20/20 [==============================] - 2s 120ms/step - loss: 0.0976 - MCRMSE: 0.3110 - val_loss: 0.0826 - val_MCRMSE: 0.2864\n",
            "Epoch 26/500\n",
            "20/20 [==============================] - 2s 119ms/step - loss: 0.0968 - MCRMSE: 0.3097 - val_loss: 0.0820 - val_MCRMSE: 0.2854\n",
            "Epoch 27/500\n",
            "20/20 [==============================] - 2s 118ms/step - loss: 0.0960 - MCRMSE: 0.3082 - val_loss: 0.0836 - val_MCRMSE: 0.2881\n",
            "Epoch 28/500\n",
            "20/20 [==============================] - 2s 118ms/step - loss: 0.0946 - MCRMSE: 0.3061 - val_loss: 0.0794 - val_MCRMSE: 0.2809\n",
            "Epoch 29/500\n",
            "20/20 [==============================] - 2s 118ms/step - loss: 0.0935 - MCRMSE: 0.3043 - val_loss: 0.0788 - val_MCRMSE: 0.2798\n",
            "Epoch 30/500\n",
            "20/20 [==============================] - 2s 118ms/step - loss: 0.0940 - MCRMSE: 0.3052 - val_loss: 0.0783 - val_MCRMSE: 0.2787\n",
            "Epoch 31/500\n",
            "20/20 [==============================] - 2s 119ms/step - loss: 0.0916 - MCRMSE: 0.3012 - val_loss: 0.0781 - val_MCRMSE: 0.2785\n",
            "Epoch 32/500\n",
            "20/20 [==============================] - 2s 118ms/step - loss: 0.0909 - MCRMSE: 0.3002 - val_loss: 0.0751 - val_MCRMSE: 0.2731\n",
            "Epoch 33/500\n",
            "20/20 [==============================] - 2s 119ms/step - loss: 0.0885 - MCRMSE: 0.2962 - val_loss: 0.0749 - val_MCRMSE: 0.2727\n",
            "Epoch 34/500\n",
            "20/20 [==============================] - 2s 118ms/step - loss: 0.0894 - MCRMSE: 0.2976 - val_loss: 0.0752 - val_MCRMSE: 0.2732\n",
            "Epoch 35/500\n",
            "20/20 [==============================] - 2s 119ms/step - loss: 0.0882 - MCRMSE: 0.2958 - val_loss: 0.0759 - val_MCRMSE: 0.2745\n",
            "Epoch 36/500\n",
            "20/20 [==============================] - 2s 119ms/step - loss: 0.0870 - MCRMSE: 0.2938 - val_loss: 0.0750 - val_MCRMSE: 0.2730\n",
            "Epoch 37/500\n",
            "20/20 [==============================] - 2s 118ms/step - loss: 0.0870 - MCRMSE: 0.2936 - val_loss: 0.0728 - val_MCRMSE: 0.2688\n",
            "Epoch 38/500\n",
            "20/20 [==============================] - 2s 118ms/step - loss: 0.0866 - MCRMSE: 0.2927 - val_loss: 0.0737 - val_MCRMSE: 0.2705\n",
            "Epoch 39/500\n",
            "20/20 [==============================] - 2s 118ms/step - loss: 0.0858 - MCRMSE: 0.2917 - val_loss: 0.0729 - val_MCRMSE: 0.2689\n",
            "Epoch 40/500\n",
            "20/20 [==============================] - 2s 118ms/step - loss: 0.0850 - MCRMSE: 0.2902 - val_loss: 0.0714 - val_MCRMSE: 0.2662\n",
            "Epoch 41/500\n",
            "20/20 [==============================] - 2s 118ms/step - loss: 0.0823 - MCRMSE: 0.2856 - val_loss: 0.0713 - val_MCRMSE: 0.2661\n",
            "Epoch 42/500\n",
            "20/20 [==============================] - 2s 119ms/step - loss: 0.0833 - MCRMSE: 0.2872 - val_loss: 0.0713 - val_MCRMSE: 0.2661\n",
            "Epoch 43/500\n",
            "20/20 [==============================] - 2s 118ms/step - loss: 0.0833 - MCRMSE: 0.2872 - val_loss: 0.0702 - val_MCRMSE: 0.2641\n",
            "Epoch 44/500\n",
            "20/20 [==============================] - 2s 119ms/step - loss: 0.0822 - MCRMSE: 0.2853 - val_loss: 0.0731 - val_MCRMSE: 0.2695\n",
            "Epoch 45/500\n",
            "20/20 [==============================] - 2s 119ms/step - loss: 0.0822 - MCRMSE: 0.2854 - val_loss: 0.0690 - val_MCRMSE: 0.2617\n",
            "Epoch 46/500\n",
            "20/20 [==============================] - 2s 119ms/step - loss: 0.0813 - MCRMSE: 0.2837 - val_loss: 0.0693 - val_MCRMSE: 0.2622\n",
            "Epoch 47/500\n",
            "20/20 [==============================] - 2s 118ms/step - loss: 0.0804 - MCRMSE: 0.2825 - val_loss: 0.0686 - val_MCRMSE: 0.2610\n",
            "Epoch 48/500\n",
            "20/20 [==============================] - 2s 119ms/step - loss: 0.0801 - MCRMSE: 0.2819 - val_loss: 0.0683 - val_MCRMSE: 0.2604\n",
            "Epoch 49/500\n",
            "20/20 [==============================] - 2s 118ms/step - loss: 0.0796 - MCRMSE: 0.2810 - val_loss: 0.0696 - val_MCRMSE: 0.2627\n",
            "Epoch 50/500\n",
            "20/20 [==============================] - 2s 118ms/step - loss: 0.0787 - MCRMSE: 0.2795 - val_loss: 0.0677 - val_MCRMSE: 0.2592\n",
            "Epoch 51/500\n",
            "20/20 [==============================] - 2s 118ms/step - loss: 0.0795 - MCRMSE: 0.2804 - val_loss: 0.0686 - val_MCRMSE: 0.2609\n",
            "Epoch 52/500\n",
            "20/20 [==============================] - 2s 118ms/step - loss: 0.0786 - MCRMSE: 0.2790 - val_loss: 0.0683 - val_MCRMSE: 0.2603\n",
            "Epoch 53/500\n",
            "20/20 [==============================] - 2s 118ms/step - loss: 0.0777 - MCRMSE: 0.2775 - val_loss: 0.0672 - val_MCRMSE: 0.2582\n",
            "Epoch 54/500\n",
            "20/20 [==============================] - 2s 119ms/step - loss: 0.0780 - MCRMSE: 0.2783 - val_loss: 0.0662 - val_MCRMSE: 0.2563\n",
            "Epoch 55/500\n",
            "20/20 [==============================] - 2s 118ms/step - loss: 0.0772 - MCRMSE: 0.2766 - val_loss: 0.0681 - val_MCRMSE: 0.2599\n",
            "Epoch 56/500\n",
            "20/20 [==============================] - 2s 119ms/step - loss: 0.0762 - MCRMSE: 0.2748 - val_loss: 0.0666 - val_MCRMSE: 0.2572\n",
            "Epoch 57/500\n",
            "20/20 [==============================] - 2s 119ms/step - loss: 0.0760 - MCRMSE: 0.2745 - val_loss: 0.0687 - val_MCRMSE: 0.2610\n",
            "Epoch 58/500\n",
            "20/20 [==============================] - 2s 119ms/step - loss: 0.0759 - MCRMSE: 0.2743 - val_loss: 0.0674 - val_MCRMSE: 0.2585\n",
            "Epoch 59/500\n",
            "20/20 [==============================] - 2s 119ms/step - loss: 0.0739 - MCRMSE: 0.2708 - val_loss: 0.0656 - val_MCRMSE: 0.2552\n",
            "Epoch 60/500\n",
            "20/20 [==============================] - 2s 119ms/step - loss: 0.0749 - MCRMSE: 0.2725 - val_loss: 0.0649 - val_MCRMSE: 0.2538\n",
            "Epoch 61/500\n",
            "20/20 [==============================] - 2s 118ms/step - loss: 0.0742 - MCRMSE: 0.2711 - val_loss: 0.0654 - val_MCRMSE: 0.2548\n",
            "Epoch 62/500\n",
            "20/20 [==============================] - 2s 118ms/step - loss: 0.0745 - MCRMSE: 0.2716 - val_loss: 0.0655 - val_MCRMSE: 0.2549\n",
            "Epoch 63/500\n",
            "20/20 [==============================] - 2s 119ms/step - loss: 0.0736 - MCRMSE: 0.2703 - val_loss: 0.0638 - val_MCRMSE: 0.2516\n",
            "Epoch 64/500\n",
            "20/20 [==============================] - 2s 118ms/step - loss: 0.0736 - MCRMSE: 0.2700 - val_loss: 0.0645 - val_MCRMSE: 0.2529\n",
            "Epoch 65/500\n",
            "20/20 [==============================] - 2s 119ms/step - loss: 0.0730 - MCRMSE: 0.2689 - val_loss: 0.0649 - val_MCRMSE: 0.2538\n",
            "Epoch 66/500\n",
            "20/20 [==============================] - 2s 118ms/step - loss: 0.0724 - MCRMSE: 0.2679 - val_loss: 0.0668 - val_MCRMSE: 0.2574\n",
            "Epoch 67/500\n",
            "20/20 [==============================] - 2s 119ms/step - loss: 0.0727 - MCRMSE: 0.2683 - val_loss: 0.0637 - val_MCRMSE: 0.2515\n",
            "Epoch 68/500\n",
            "20/20 [==============================] - 2s 119ms/step - loss: 0.0719 - MCRMSE: 0.2670 - val_loss: 0.0633 - val_MCRMSE: 0.2506\n",
            "Epoch 69/500\n",
            "20/20 [==============================] - 2s 119ms/step - loss: 0.0707 - MCRMSE: 0.2647 - val_loss: 0.0646 - val_MCRMSE: 0.2530\n",
            "Epoch 70/500\n",
            "20/20 [==============================] - 2s 119ms/step - loss: 0.0710 - MCRMSE: 0.2652 - val_loss: 0.0634 - val_MCRMSE: 0.2506\n",
            "Epoch 71/500\n",
            "20/20 [==============================] - 2s 119ms/step - loss: 0.0696 - MCRMSE: 0.2626 - val_loss: 0.0638 - val_MCRMSE: 0.2514\n",
            "Epoch 72/500\n",
            "20/20 [==============================] - 2s 119ms/step - loss: 0.0698 - MCRMSE: 0.2631 - val_loss: 0.0631 - val_MCRMSE: 0.2501\n",
            "Epoch 73/500\n",
            "20/20 [==============================] - 2s 118ms/step - loss: 0.0697 - MCRMSE: 0.2628 - val_loss: 0.0641 - val_MCRMSE: 0.2520\n",
            "Epoch 74/500\n",
            "20/20 [==============================] - 2s 118ms/step - loss: 0.0698 - MCRMSE: 0.2631 - val_loss: 0.0632 - val_MCRMSE: 0.2504\n",
            "Epoch 75/500\n",
            "20/20 [==============================] - 2s 119ms/step - loss: 0.0692 - MCRMSE: 0.2620 - val_loss: 0.0639 - val_MCRMSE: 0.2517\n",
            "Epoch 76/500\n",
            "20/20 [==============================] - 2s 118ms/step - loss: 0.0692 - MCRMSE: 0.2619 - val_loss: 0.0644 - val_MCRMSE: 0.2528\n",
            "Epoch 77/500\n",
            "20/20 [==============================] - 2s 119ms/step - loss: 0.0692 - MCRMSE: 0.2619 - val_loss: 0.0625 - val_MCRMSE: 0.2491\n",
            "Epoch 78/500\n",
            "20/20 [==============================] - 2s 121ms/step - loss: 0.0682 - MCRMSE: 0.2601 - val_loss: 0.0623 - val_MCRMSE: 0.2485\n",
            "Epoch 79/500\n",
            "20/20 [==============================] - 2s 121ms/step - loss: 0.0673 - MCRMSE: 0.2583 - val_loss: 0.0647 - val_MCRMSE: 0.2532\n",
            "Epoch 80/500\n",
            "20/20 [==============================] - 2s 119ms/step - loss: 0.0676 - MCRMSE: 0.2587 - val_loss: 0.0628 - val_MCRMSE: 0.2496\n",
            "Epoch 81/500\n",
            "20/20 [==============================] - 2s 121ms/step - loss: 0.0680 - MCRMSE: 0.2596 - val_loss: 0.0621 - val_MCRMSE: 0.2482\n",
            "Epoch 82/500\n",
            "20/20 [==============================] - 2s 119ms/step - loss: 0.0665 - MCRMSE: 0.2569 - val_loss: 0.0618 - val_MCRMSE: 0.2476\n",
            "Epoch 83/500\n",
            "20/20 [==============================] - 2s 118ms/step - loss: 0.0671 - MCRMSE: 0.2579 - val_loss: 0.0631 - val_MCRMSE: 0.2503\n",
            "Epoch 84/500\n",
            "20/20 [==============================] - 2s 119ms/step - loss: 0.0671 - MCRMSE: 0.2581 - val_loss: 0.0635 - val_MCRMSE: 0.2511\n",
            "Epoch 85/500\n",
            "20/20 [==============================] - 2s 119ms/step - loss: 0.0662 - MCRMSE: 0.2563 - val_loss: 0.0615 - val_MCRMSE: 0.2469\n",
            "Epoch 86/500\n",
            "20/20 [==============================] - 2s 118ms/step - loss: 0.0659 - MCRMSE: 0.2557 - val_loss: 0.0638 - val_MCRMSE: 0.2514\n",
            "Epoch 87/500\n",
            "20/20 [==============================] - 2s 119ms/step - loss: 0.0660 - MCRMSE: 0.2559 - val_loss: 0.0623 - val_MCRMSE: 0.2487\n",
            "Epoch 88/500\n",
            "20/20 [==============================] - 2s 119ms/step - loss: 0.0651 - MCRMSE: 0.2541 - val_loss: 0.0613 - val_MCRMSE: 0.2466\n",
            "Epoch 89/500\n",
            "20/20 [==============================] - 2s 118ms/step - loss: 0.0656 - MCRMSE: 0.2550 - val_loss: 0.0613 - val_MCRMSE: 0.2467\n",
            "Epoch 90/500\n",
            "20/20 [==============================] - 2s 119ms/step - loss: 0.0647 - MCRMSE: 0.2532 - val_loss: 0.0620 - val_MCRMSE: 0.2479\n",
            "Epoch 91/500\n",
            "20/20 [==============================] - 2s 119ms/step - loss: 0.0646 - MCRMSE: 0.2532 - val_loss: 0.0610 - val_MCRMSE: 0.2458\n",
            "Epoch 92/500\n",
            "20/20 [==============================] - 2s 119ms/step - loss: 0.0652 - MCRMSE: 0.2543 - val_loss: 0.0606 - val_MCRMSE: 0.2451\n",
            "Epoch 93/500\n",
            "20/20 [==============================] - 2s 118ms/step - loss: 0.0635 - MCRMSE: 0.2508 - val_loss: 0.0626 - val_MCRMSE: 0.2490\n",
            "Epoch 94/500\n",
            "20/20 [==============================] - 2s 119ms/step - loss: 0.0632 - MCRMSE: 0.2504 - val_loss: 0.0603 - val_MCRMSE: 0.2446\n",
            "Epoch 95/500\n",
            "20/20 [==============================] - 2s 119ms/step - loss: 0.0622 - MCRMSE: 0.2484 - val_loss: 0.0626 - val_MCRMSE: 0.2491\n",
            "Epoch 96/500\n",
            "20/20 [==============================] - 2s 119ms/step - loss: 0.0638 - MCRMSE: 0.2515 - val_loss: 0.0610 - val_MCRMSE: 0.2460\n",
            "Epoch 97/500\n",
            "20/20 [==============================] - 2s 119ms/step - loss: 0.0624 - MCRMSE: 0.2486 - val_loss: 0.0601 - val_MCRMSE: 0.2442\n",
            "Epoch 98/500\n",
            "20/20 [==============================] - 2s 119ms/step - loss: 0.0622 - MCRMSE: 0.2482 - val_loss: 0.0629 - val_MCRMSE: 0.2498\n",
            "Epoch 99/500\n",
            "20/20 [==============================] - 2s 118ms/step - loss: 0.0624 - MCRMSE: 0.2487 - val_loss: 0.0609 - val_MCRMSE: 0.2456\n",
            "Epoch 100/500\n",
            "20/20 [==============================] - 2s 119ms/step - loss: 0.0618 - MCRMSE: 0.2476 - val_loss: 0.0597 - val_MCRMSE: 0.2433\n",
            "Epoch 101/500\n",
            "20/20 [==============================] - 2s 119ms/step - loss: 0.0617 - MCRMSE: 0.2475 - val_loss: 0.0610 - val_MCRMSE: 0.2459\n",
            "Epoch 102/500\n",
            "20/20 [==============================] - 2s 119ms/step - loss: 0.0600 - MCRMSE: 0.2440 - val_loss: 0.0599 - val_MCRMSE: 0.2436\n",
            "Epoch 103/500\n",
            "20/20 [==============================] - 2s 118ms/step - loss: 0.0604 - MCRMSE: 0.2448 - val_loss: 0.0605 - val_MCRMSE: 0.2450\n",
            "Epoch 104/500\n",
            "20/20 [==============================] - 2s 119ms/step - loss: 0.0614 - MCRMSE: 0.2466 - val_loss: 0.0615 - val_MCRMSE: 0.2470\n",
            "Epoch 105/500\n",
            "20/20 [==============================] - 2s 119ms/step - loss: 0.0615 - MCRMSE: 0.2469 - val_loss: 0.0604 - val_MCRMSE: 0.2447\n",
            "Epoch 106/500\n",
            "20/20 [==============================] - 2s 119ms/step - loss: 0.0588 - MCRMSE: 0.2417 - val_loss: 0.0600 - val_MCRMSE: 0.2439\n",
            "Epoch 107/500\n",
            "20/20 [==============================] - 2s 118ms/step - loss: 0.0576 - MCRMSE: 0.2390 - val_loss: 0.0598 - val_MCRMSE: 0.2435\n",
            "Epoch 108/500\n",
            "20/20 [==============================] - 2s 120ms/step - loss: 0.0582 - MCRMSE: 0.2403 - val_loss: 0.0596 - val_MCRMSE: 0.2432\n",
            "Epoch 109/500\n",
            "20/20 [==============================] - 2s 119ms/step - loss: 0.0585 - MCRMSE: 0.2408 - val_loss: 0.0596 - val_MCRMSE: 0.2432\n",
            "Epoch 110/500\n",
            "20/20 [==============================] - 2s 119ms/step - loss: 0.0589 - MCRMSE: 0.2420 - val_loss: 0.0593 - val_MCRMSE: 0.2425\n",
            "Epoch 111/500\n",
            "20/20 [==============================] - 2s 119ms/step - loss: 0.0575 - MCRMSE: 0.2388 - val_loss: 0.0592 - val_MCRMSE: 0.2423\n",
            "Epoch 112/500\n",
            "20/20 [==============================] - 2s 118ms/step - loss: 0.0573 - MCRMSE: 0.2384 - val_loss: 0.0593 - val_MCRMSE: 0.2424\n",
            "Epoch 113/500\n",
            "20/20 [==============================] - 2s 119ms/step - loss: 0.0582 - MCRMSE: 0.2405 - val_loss: 0.0595 - val_MCRMSE: 0.2429\n",
            "Epoch 114/500\n",
            "20/20 [==============================] - 2s 119ms/step - loss: 0.0576 - MCRMSE: 0.2392 - val_loss: 0.0596 - val_MCRMSE: 0.2432\n",
            "Epoch 115/500\n",
            "20/20 [==============================] - 2s 120ms/step - loss: 0.0577 - MCRMSE: 0.2393 - val_loss: 0.0595 - val_MCRMSE: 0.2429\n",
            "Epoch 116/500\n",
            "20/20 [==============================] - 2s 120ms/step - loss: 0.0577 - MCRMSE: 0.2392 - val_loss: 0.0594 - val_MCRMSE: 0.2427\n",
            "Epoch 117/500\n",
            "20/20 [==============================] - 2s 120ms/step - loss: 0.0568 - MCRMSE: 0.2375 - val_loss: 0.0593 - val_MCRMSE: 0.2425\n",
            "Epoch 118/500\n",
            "20/20 [==============================] - 2s 120ms/step - loss: 0.0570 - MCRMSE: 0.2378 - val_loss: 0.0594 - val_MCRMSE: 0.2427\n",
            "Epoch 119/500\n",
            "20/20 [==============================] - 2s 119ms/step - loss: 0.0575 - MCRMSE: 0.2387 - val_loss: 0.0593 - val_MCRMSE: 0.2425\n",
            "Epoch 120/500\n",
            "20/20 [==============================] - 2s 118ms/step - loss: 0.0572 - MCRMSE: 0.2383 - val_loss: 0.0593 - val_MCRMSE: 0.2425\n",
            "Epoch 121/500\n",
            "20/20 [==============================] - 2s 119ms/step - loss: 0.0569 - MCRMSE: 0.2377 - val_loss: 0.0593 - val_MCRMSE: 0.2425\n"
          ],
          "name": "stdout"
        }
      ]
    },
    {
      "cell_type": "code",
      "metadata": {
        "id": "tPpsIi8-Op60",
        "outputId": "e3b752df-096b-4fcd-8853-aed3fe9033d9",
        "colab": {
          "base_uri": "https://localhost:8080/",
          "height": 281
        }
      },
      "source": [
        "loss = history_training.history['loss']\n",
        "val_loss = history_training.history['val_loss']\n",
        "epochs = range(len(loss))\n",
        "plt.figure()\n",
        "\n",
        "plt.plot(epochs, loss, 'r', label='Training Loss')\n",
        "plt.plot(epochs, val_loss, 'b', label='Validation Loss')\n",
        "plt.title('Training and validation loss')\n",
        "\n",
        "plt.legend()\n",
        "plt.show()"
      ],
      "execution_count": 54,
      "outputs": [
        {
          "output_type": "display_data",
          "data": {
            "image/png": "[encoded data removed]",
            "text/plain": [
              "<Figure size 432x288 with 1 Axes>"
            ]
          },
          "metadata": {
            "tags": [],
            "needs_background": "light"
          }
        }
      ]
    },
    {
      "cell_type": "code",
      "metadata": {
        "id": "XHpReXe-Op64"
      },
      "source": [
        "#Creation of function that gives train and test set indexes from a pandas dataframe\n",
        "def data_sep(dataset, data_size, train_size):\n",
        "    train = random.sample(range(data_size), train_size)\n",
        "    test = list(range(0,data_size))\n",
        "    for i in train:\n",
        "        test.remove(i)\n",
        "    return(train,test)"
      ],
      "execution_count": 33,
      "outputs": []
    },
    {
      "cell_type": "code",
      "metadata": {
        "id": "vGUQb3JjOp66"
      },
      "source": [
        "#========== KFold Cross-validation ================\n",
        "\n",
        "inputs = inputs_array\n",
        "targets = expected_results\n",
        "\n",
        "num_folds = 5\n",
        "fold_no = 1\n",
        "\n",
        "while fold_no <= num_folds:\n",
        "    kf_train_index, kf_test_index = data_sep(train,1587,1300)\n",
        "    train_in = inputs[kf_train_index, ]\n",
        "    test_in = inputs[kf_test_index, ]\n",
        "    train_out = targets[kf_train_index, ]\n",
        "    test_out = targets[kf_test_index, ]\n",
        "\n",
        "    kf_model = build_gru(output_length = 68)\n",
        "    \n",
        "    # Generate a print\n",
        "    print('------------------------------------------------------------------------')\n",
        "    print(f'Training for fold {fold_no} ...')\n",
        "    \n",
        "    # Fit data to model\n",
        "    history = kf_model.fit(train_in, train_out, batch_size=100, epochs=30, verbose=0)\n",
        "    \n",
        "  \n",
        "    # Generate generalization metrics\n",
        "    scores = kf_model.evaluate(test_in, test_out, verbose=0)\n",
        "    print(f'Score for fold {fold_no}: {kf_model.metrics_names[0]} of {scores[0]}\\n\\\n",
        "    and {kf_model.metrics_names[1]} of {scores[1]}')\n",
        "    fold_no+=1"
      ],
      "execution_count": null,
      "outputs": []
    },
    {
      "cell_type": "code",
      "metadata": {
        "id": "nDNNItVUOp6-"
      },
      "source": [
        "# on utilise les poids du modèle run précédemment\n",
        "model_train_pred = build_gru(107)\n",
        "model_train_pred.load_weights('trained.h5')\n",
        "\n",
        "model_public = build_gru(107)\n",
        "model_public.load_weights('trained.h5')\n",
        "\n",
        "model_private = build_gru(130)\n",
        "model_private.load_weights('trained.h5')\n",
        "\n",
        "train_full_predicted = model_train_pred.predict(inputs_array)\n",
        "public_full_predicted = model_public.predict(inputs_public_array)\n",
        "private_full_predicted = model_private.predict(inputs_private_array)"
      ],
      "execution_count": 71,
      "outputs": []
    },
    {
      "cell_type": "code",
      "metadata": {
        "id": "NEUAPue3b3S8",
        "outputId": "7bc7f823-8310-40ec-b4b5-a4891c36a9d1",
        "colab": {
          "base_uri": "https://localhost:8080/",
          "height": 17
        }
      },
      "source": [
        "# soumission des prédictions dans le tableau csv Kaggle\n",
        "\n",
        "submission_model = submission_into_csv(test_public = test_public, \n",
        "                               public_predicted = public_full_predicted, \n",
        "                               test_private = test_private,\n",
        "                               private_predicted = private_full_predicted)\n",
        "\n",
        "submission_model.to_csv('submission_model.csv', index=False)\n",
        "files.download('submission_model.csv')"
      ],
      "execution_count": 74,
      "outputs": [
        {
          "output_type": "display_data",
          "data": {
            "application/javascript": [
              "\n",
              "    async function download(id, filename, size) {\n",
              "      if (!google.colab.kernel.accessAllowed) {\n",
              "        return;\n",
              "      }\n",
              "      const div = document.createElement('div');\n",
              "      const label = document.createElement('label');\n",
              "      label.textContent = `Downloading \"${filename}\": `;\n",
              "      div.appendChild(label);\n",
              "      const progress = document.createElement('progress');\n",
              "      progress.max = size;\n",
              "      div.appendChild(progress);\n",
              "      document.body.appendChild(div);\n",
              "\n",
              "      const buffers = [];\n",
              "      let downloaded = 0;\n",
              "\n",
              "      const channel = await google.colab.kernel.comms.open(id);\n",
              "      // Send a message to notify the kernel that we're ready.\n",
              "      channel.send({})\n",
              "\n",
              "      for await (const message of channel.messages) {\n",
              "        // Send a message to notify the kernel that we're ready.\n",
              "        channel.send({})\n",
              "        if (message.buffers) {\n",
              "          for (const buffer of message.buffers) {\n",
              "            buffers.push(buffer);\n",
              "            downloaded += buffer.byteLength;\n",
              "            progress.value = downloaded;\n",
              "          }\n",
              "        }\n",
              "      }\n",
              "      const blob = new Blob(buffers, {type: 'application/binary'});\n",
              "      const a = document.createElement('a');\n",
              "      a.href = window.URL.createObjectURL(blob);\n",
              "      a.download = filename;\n",
              "      div.appendChild(a);\n",
              "      a.click();\n",
              "      div.remove();\n",
              "    }\n",
              "  "
            ],
            "text/plain": [
              "<IPython.core.display.Javascript object>"
            ]
          },
          "metadata": {
            "tags": []
          }
        },
        {
          "output_type": "display_data",
          "data": {
            "application/javascript": [
              "download(\"download_c3ba5df2-022a-4eec-bf93-fde0ceb49388\", \"submission_model.csv\", 32174841)"
            ],
            "text/plain": [
              "<IPython.core.display.Javascript object>"
            ]
          },
          "metadata": {
            "tags": []
          }
        }
      ]
    },
    {
      "cell_type": "code",
      "metadata": {
        "id": "ocg7wiWUyG62",
        "outputId": "9753ee89-d34a-4749-ecb4-7fe3caaba264",
        "colab": {
          "base_uri": "https://localhost:8080/",
          "height": 173
        }
      },
      "source": [
        "submission_model.head(4)"
      ],
      "execution_count": 73,
      "outputs": [
        {
          "output_type": "execute_result",
          "data": {
            "text/html": [
              "<div>\n",
              "<style scoped>\n",
              "    .dataframe tbody tr th:only-of-type {\n",
              "        vertical-align: middle;\n",
              "    }\n",
              "\n",
              "    .dataframe tbody tr th {\n",
              "        vertical-align: top;\n",
              "    }\n",
              "\n",
              "    .dataframe thead th {\n",
              "        text-align: right;\n",
              "    }\n",
              "</style>\n",
              "<table border=\"1\" class=\"dataframe\">\n",
              "  <thead>\n",
              "    <tr style=\"text-align: right;\">\n",
              "      <th></th>\n",
              "      <th>id_seqpos</th>\n",
              "      <th>reactivity</th>\n",
              "      <th>deg_Mg_pH10</th>\n",
              "      <th>deg_Mg_50C</th>\n",
              "      <th>deg_pH10</th>\n",
              "      <th>deg_50C</th>\n",
              "    </tr>\n",
              "  </thead>\n",
              "  <tbody>\n",
              "    <tr>\n",
              "      <th>0</th>\n",
              "      <td>id_00073f8be_0</td>\n",
              "      <td>0.933570</td>\n",
              "      <td>0.838849</td>\n",
              "      <td>0.694158</td>\n",
              "      <td>2.026716</td>\n",
              "      <td>0.828195</td>\n",
              "    </tr>\n",
              "    <tr>\n",
              "      <th>1</th>\n",
              "      <td>id_00073f8be_1</td>\n",
              "      <td>3.366122</td>\n",
              "      <td>4.053998</td>\n",
              "      <td>3.928263</td>\n",
              "      <td>5.167129</td>\n",
              "      <td>3.298460</td>\n",
              "    </tr>\n",
              "    <tr>\n",
              "      <th>2</th>\n",
              "      <td>id_00073f8be_2</td>\n",
              "      <td>1.673312</td>\n",
              "      <td>0.921580</td>\n",
              "      <td>0.863051</td>\n",
              "      <td>0.675904</td>\n",
              "      <td>0.748903</td>\n",
              "    </tr>\n",
              "    <tr>\n",
              "      <th>3</th>\n",
              "      <td>id_00073f8be_3</td>\n",
              "      <td>1.459746</td>\n",
              "      <td>1.479767</td>\n",
              "      <td>1.952469</td>\n",
              "      <td>1.466259</td>\n",
              "      <td>1.703115</td>\n",
              "    </tr>\n",
              "  </tbody>\n",
              "</table>\n",
              "</div>"
            ],
            "text/plain": [
              "        id_seqpos  reactivity  deg_Mg_pH10  deg_Mg_50C  deg_pH10   deg_50C\n",
              "0  id_00073f8be_0    0.933570     0.838849    0.694158  2.026716  0.828195\n",
              "1  id_00073f8be_1    3.366122     4.053998    3.928263  5.167129  3.298460\n",
              "2  id_00073f8be_2    1.673312     0.921580    0.863051  0.675904  0.748903\n",
              "3  id_00073f8be_3    1.459746     1.479767    1.952469  1.466259  1.703115"
            ]
          },
          "metadata": {
            "tags": []
          },
          "execution_count": 73
        }
      ]
    },
    {
      "cell_type": "code",
      "metadata": {
        "id": "8IQF0eV_Op7A",
        "outputId": "31700f95-dfb9-41ef-fc0d-e52227d85c8d",
        "colab": {
          "base_uri": "https://localhost:8080/",
          "height": 437
        }
      },
      "source": [
        "# valeurs prédites (train) sur les valeurs attendues\n",
        "\n",
        "import seaborn as sns\n",
        "\n",
        "sns.distplot(expected_results[:,:,:], color='red')\n",
        "sns.distplot(private_full_predicted, color='green').set_title('Concordance de prédiction (w/o weight)')\n",
        "plt.show()"
      ],
      "execution_count": 57,
      "outputs": [
        {
          "output_type": "stream",
          "text": [
            "/usr/local/lib/python3.6/dist-packages/seaborn/distributions.py:2551: FutureWarning:\n",
            "\n",
            "`distplot` is a deprecated function and will be removed in a future version. Please adapt your code to use either `displot` (a figure-level function with similar flexibility) or `histplot` (an axes-level function for histograms).\n",
            "\n",
            "/usr/local/lib/python3.6/dist-packages/seaborn/distributions.py:2551: FutureWarning:\n",
            "\n",
            "`distplot` is a deprecated function and will be removed in a future version. Please adapt your code to use either `displot` (a figure-level function with similar flexibility) or `histplot` (an axes-level function for histograms).\n",
            "\n"
          ],
          "name": "stderr"
        },
        {
          "output_type": "display_data",
          "data": {
            "image/png": "[encoded data removed]",
            "text/plain": [
              "<Figure size 432x288 with 1 Axes>"
            ]
          },
          "metadata": {
            "tags": [],
            "needs_background": "light"
          }
        }
      ]
    },
    {
      "cell_type": "code",
      "metadata": {
        "id": "Pnrl6wY1aDtK"
      },
      "source": [
        "#================= TRAINING with weight ================\n",
        "\n",
        "model_weight = build_gru(output_length = 68)\n",
        "callback = [tf.keras.callbacks.EarlyStopping(monitor = \"val_loss\", patience = 10), \n",
        "            tf.keras.callbacks.ModelCheckpoint('trained_weight.h5'),\n",
        "            tf.keras.callbacks.ReduceLROnPlateau(patience=5)]"
      ],
      "execution_count": 59,
      "outputs": []
    },
    {
      "cell_type": "code",
      "metadata": {
        "id": "CNnhXLPiZCm-"
      },
      "source": [
        "history_weight = model_weight.fit(\n",
        "    inputs_array, expected_results,\n",
        "    batch_size=64,\n",
        "    epochs=500,\n",
        "    validation_split = 0.2,\n",
        "    callbacks = callback,\n",
        "    shuffle = True,\n",
        "    verbose=0,\n",
        "    sample_weight=np.array(weights)\n",
        ")"
      ],
      "execution_count": 60,
      "outputs": []
    },
    {
      "cell_type": "code",
      "metadata": {
        "id": "zx2-6MlXajvB"
      },
      "source": [
        "#Creation of function that gives train and test set indexes from a pandas dataframe\n",
        "def data_sep(dataset, data_size, train_size):\n",
        "    ''' \n",
        "    renvoie les index des échantillons test et train\n",
        "    '''\n",
        "    train = random.sample(range(data_size), train_size)\n",
        "    test = list(range(0,data_size))\n",
        "    for i in train:\n",
        "        test.remove(i)\n",
        "    return(train,test)\n",
        "\n",
        "#========== KFold Cross-validation ================\n",
        "\n",
        "inputs = inputs_array\n",
        "targets = expected_results\n",
        "\n",
        "num_folds = 3\n",
        "fold_no = 1\n",
        "\n",
        "while fold_no <= num_folds:\n",
        "    kf_train_index, kf_test_index = data_sep(train,1587,1300)\n",
        "    train_in = inputs[kf_train_index, ]\n",
        "    test_in = inputs[kf_test_index, ]\n",
        "    train_out = targets[kf_train_index, ]\n",
        "    test_out = targets[kf_test_index, ]\n",
        "\n",
        "    weight_model = build_gru(output_length = 68)\n",
        "    \n",
        "    # Generate a print\n",
        "    print('------------------------------------------------------------------------')\n",
        "    print(f'Training for fold {fold_no} ...')\n",
        "    \n",
        "    # Fit data to model\n",
        "    sample_weight=np.array(weights)[kf_train_index]\n",
        "    history = weight_model.fit(train_in, train_out, batch_size=100, epochs=30, verbose=0, sample_weight=sample_weight)\n",
        "    \n",
        "  \n",
        "    # Generate generalization metrics\n",
        "    scores = weight_model.evaluate(test_in, test_out, verbose=0)\n",
        "    print(f'Score for fold {fold_no}: {weight_model.metrics_names[0]} of {scores[0]}\\n\\\n",
        "    and {weight_model.metrics_names[1]} of {scores[1]}')\n",
        "    fold_no+=1"
      ],
      "execution_count": null,
      "outputs": []
    },
    {
      "cell_type": "code",
      "metadata": {
        "id": "9Hdj_s8VbDOo"
      },
      "source": [
        "# on utilise les poids du modèle run précédemment\n",
        "model_train_pred = build_gru(107)\n",
        "model_train_pred.load_weights('trained_weight.h5')\n",
        "\n",
        "model_public = build_gru(107)\n",
        "model_public.load_weights('trained_weight.h5')\n",
        "\n",
        "model_private = build_gru(130)\n",
        "model_private.load_weights('trained_weight.h5')\n",
        "\n",
        "train_full_predicted = model_train_pred.predict(inputs_array)\n",
        "public_full_predicted = model_public.predict(inputs_public_array)\n",
        "private_full_predicted = model_private.predict(inputs_private_array)"
      ],
      "execution_count": 75,
      "outputs": []
    },
    {
      "cell_type": "code",
      "metadata": {
        "id": "SlgqJYNOhfG1",
        "outputId": "ddb35868-3805-44e4-e30e-d56cf29b7c2f",
        "colab": {
          "base_uri": "https://localhost:8080/",
          "height": 17
        }
      },
      "source": [
        "submission_model_weight = submission_into_csv(test_public = test_public, \n",
        "                                              test_private = test_private, \n",
        "                                              public_predicted = public_full_predicted, \n",
        "                                              private_predicted = private_full_predicted)\n",
        "submission_model_weight.head(4)\n",
        "submission_model_weight.to_csv('submission_weight.csv', index=False)\n",
        "files.download('submission_weight.csv')"
      ],
      "execution_count": 78,
      "outputs": [
        {
          "output_type": "display_data",
          "data": {
            "application/javascript": [
              "\n",
              "    async function download(id, filename, size) {\n",
              "      if (!google.colab.kernel.accessAllowed) {\n",
              "        return;\n",
              "      }\n",
              "      const div = document.createElement('div');\n",
              "      const label = document.createElement('label');\n",
              "      label.textContent = `Downloading \"${filename}\": `;\n",
              "      div.appendChild(label);\n",
              "      const progress = document.createElement('progress');\n",
              "      progress.max = size;\n",
              "      div.appendChild(progress);\n",
              "      document.body.appendChild(div);\n",
              "\n",
              "      const buffers = [];\n",
              "      let downloaded = 0;\n",
              "\n",
              "      const channel = await google.colab.kernel.comms.open(id);\n",
              "      // Send a message to notify the kernel that we're ready.\n",
              "      channel.send({})\n",
              "\n",
              "      for await (const message of channel.messages) {\n",
              "        // Send a message to notify the kernel that we're ready.\n",
              "        channel.send({})\n",
              "        if (message.buffers) {\n",
              "          for (const buffer of message.buffers) {\n",
              "            buffers.push(buffer);\n",
              "            downloaded += buffer.byteLength;\n",
              "            progress.value = downloaded;\n",
              "          }\n",
              "        }\n",
              "      }\n",
              "      const blob = new Blob(buffers, {type: 'application/binary'});\n",
              "      const a = document.createElement('a');\n",
              "      a.href = window.URL.createObjectURL(blob);\n",
              "      a.download = filename;\n",
              "      div.appendChild(a);\n",
              "      a.click();\n",
              "      div.remove();\n",
              "    }\n",
              "  "
            ],
            "text/plain": [
              "<IPython.core.display.Javascript object>"
            ]
          },
          "metadata": {
            "tags": []
          }
        },
        {
          "output_type": "display_data",
          "data": {
            "application/javascript": [
              "download(\"download_fdb5ff2a-b3eb-4da5-a8e0-45a3126cb1b4\", \"submission_weight.csv\", 31848280)"
            ],
            "text/plain": [
              "<IPython.core.display.Javascript object>"
            ]
          },
          "metadata": {
            "tags": []
          }
        }
      ]
    },
    {
      "cell_type": "code",
      "metadata": {
        "id": "4G8Rl4lnzOHY",
        "outputId": "cad779a9-5b7b-4481-9bf0-b04a8215185f",
        "colab": {
          "base_uri": "https://localhost:8080/",
          "height": 173
        }
      },
      "source": [
        "submission_model_weight.tail(4)"
      ],
      "execution_count": 84,
      "outputs": [
        {
          "output_type": "execute_result",
          "data": {
            "text/html": [
              "<div>\n",
              "<style scoped>\n",
              "    .dataframe tbody tr th:only-of-type {\n",
              "        vertical-align: middle;\n",
              "    }\n",
              "\n",
              "    .dataframe tbody tr th {\n",
              "        vertical-align: top;\n",
              "    }\n",
              "\n",
              "    .dataframe thead th {\n",
              "        text-align: right;\n",
              "    }\n",
              "</style>\n",
              "<table border=\"1\" class=\"dataframe\">\n",
              "  <thead>\n",
              "    <tr style=\"text-align: right;\">\n",
              "      <th></th>\n",
              "      <th>id_seqpos</th>\n",
              "      <th>reactivity</th>\n",
              "      <th>deg_Mg_pH10</th>\n",
              "      <th>deg_Mg_50C</th>\n",
              "      <th>deg_pH10</th>\n",
              "      <th>deg_50C</th>\n",
              "    </tr>\n",
              "  </thead>\n",
              "  <tbody>\n",
              "    <tr>\n",
              "      <th>457949</th>\n",
              "      <td>id_ffda94f24_126</td>\n",
              "      <td>0.540554</td>\n",
              "      <td>0.616535</td>\n",
              "      <td>0.653847</td>\n",
              "      <td>0.431096</td>\n",
              "      <td>0.726814</td>\n",
              "    </tr>\n",
              "    <tr>\n",
              "      <th>457950</th>\n",
              "      <td>id_ffda94f24_127</td>\n",
              "      <td>0.509221</td>\n",
              "      <td>0.513840</td>\n",
              "      <td>0.587240</td>\n",
              "      <td>0.183215</td>\n",
              "      <td>0.631684</td>\n",
              "    </tr>\n",
              "    <tr>\n",
              "      <th>457951</th>\n",
              "      <td>id_ffda94f24_128</td>\n",
              "      <td>0.289691</td>\n",
              "      <td>0.352725</td>\n",
              "      <td>0.379789</td>\n",
              "      <td>-0.040966</td>\n",
              "      <td>0.459543</td>\n",
              "    </tr>\n",
              "    <tr>\n",
              "      <th>457952</th>\n",
              "      <td>id_ffda94f24_129</td>\n",
              "      <td>0.076705</td>\n",
              "      <td>0.278284</td>\n",
              "      <td>0.189429</td>\n",
              "      <td>-0.213468</td>\n",
              "      <td>0.364433</td>\n",
              "    </tr>\n",
              "  </tbody>\n",
              "</table>\n",
              "</div>"
            ],
            "text/plain": [
              "               id_seqpos  reactivity  ...  deg_pH10   deg_50C\n",
              "457949  id_ffda94f24_126    0.540554  ...  0.431096  0.726814\n",
              "457950  id_ffda94f24_127    0.509221  ...  0.183215  0.631684\n",
              "457951  id_ffda94f24_128    0.289691  ... -0.040966  0.459543\n",
              "457952  id_ffda94f24_129    0.076705  ... -0.213468  0.364433\n",
              "\n",
              "[4 rows x 6 columns]"
            ]
          },
          "metadata": {
            "tags": []
          },
          "execution_count": 84
        }
      ]
    },
    {
      "cell_type": "code",
      "metadata": {
        "id": "Zi8i_JEPa_eH",
        "outputId": "e19bdf7d-fbf5-40f9-937b-b9aaa81b2ffa",
        "colab": {
          "base_uri": "https://localhost:8080/",
          "height": 437
        }
      },
      "source": [
        "# valeurs prédites (train) sur les valeurs attendues\n",
        "\n",
        "import seaborn as sns\n",
        "\n",
        "sns.distplot(expected_results[:,:,:], color='red')\n",
        "sns.distplot(private_full_predicted, color='blue').set_title('Concordance de prédiction (w/ weight)')\n",
        "\n",
        "plt.show()"
      ],
      "execution_count": 64,
      "outputs": [
        {
          "output_type": "stream",
          "text": [
            "/usr/local/lib/python3.6/dist-packages/seaborn/distributions.py:2551: FutureWarning:\n",
            "\n",
            "`distplot` is a deprecated function and will be removed in a future version. Please adapt your code to use either `displot` (a figure-level function with similar flexibility) or `histplot` (an axes-level function for histograms).\n",
            "\n",
            "/usr/local/lib/python3.6/dist-packages/seaborn/distributions.py:2551: FutureWarning:\n",
            "\n",
            "`distplot` is a deprecated function and will be removed in a future version. Please adapt your code to use either `displot` (a figure-level function with similar flexibility) or `histplot` (an axes-level function for histograms).\n",
            "\n"
          ],
          "name": "stderr"
        },
        {
          "output_type": "display_data",
          "data": {
            "image/png": "[encoded data removed]",
            "text/plain": [
              "<Figure size 432x288 with 1 Axes>"
            ]
          },
          "metadata": {
            "tags": [],
            "needs_background": "light"
          }
        }
      ]
    },
    {
      "cell_type": "code",
      "metadata": {
        "id": "GPJSobGkoRpH"
      },
      "source": [
        "#=============================================================================================\n",
        "# Evaluation de l'apprentissage avec prédiction de structure secondaire (files test seulement)\n",
        "#=============================================================================================\n",
        "\n",
        "# 100% concordance fichier train\n",
        "# 49% concordance fichier test\n",
        "\n",
        "test = pd.read_json(io.BytesIO(uploaded['test.json']), lines=True).drop('index', axis=1)\n",
        "pred_ss_test = pd.read_table(io.BytesIO(uploaded['vienna_test.txt']), header=None)\n",
        "test_df_vienna = test.copy()\n",
        "# on remplace la colonne structure par les nouvelles prédictions avec viennaRNA\n",
        "test_df_vienna['structure'] = pred_ss_test"
      ],
      "execution_count": 90,
      "outputs": []
    },
    {
      "cell_type": "code",
      "metadata": {
        "id": "WtRcsmCB1_PQ",
        "outputId": "eb95dd2d-f34f-428d-a769-e47dc921d19f",
        "colab": {
          "base_uri": "https://localhost:8080/",
          "height": 1000
        }
      },
      "source": [
        "model_vienna = build_gru(output_length = 68)\n",
        "\n",
        "callback = [tf.keras.callbacks.EarlyStopping(monitor = \"val_loss\", patience = 10), \n",
        "            tf.keras.callbacks.ModelCheckpoint('trained_vienna.h5'),\n",
        "            tf.keras.callbacks.ReduceLROnPlateau(patience=5)]\n",
        "\n",
        "history_vienna = model_vienna.fit(inputs_array, expected_results,batch_size=64,epochs=500,validation_split = 0.2,callbacks = callback,shuffle = True,verbose=1)"
      ],
      "execution_count": 99,
      "outputs": [
        {
          "output_type": "stream",
          "text": [
            "Epoch 1/500\n",
            "20/20 [==============================] - 7s 373ms/step - loss: 0.2247 - MCRMSE: 0.4679 - val_loss: 0.1631 - val_MCRMSE: 0.4007\n",
            "Epoch 2/500\n",
            "20/20 [==============================] - 2s 119ms/step - loss: 0.1679 - MCRMSE: 0.4071 - val_loss: 0.1443 - val_MCRMSE: 0.3776\n",
            "Epoch 3/500\n",
            "20/20 [==============================] - 2s 119ms/step - loss: 0.1547 - MCRMSE: 0.3911 - val_loss: 0.1370 - val_MCRMSE: 0.3679\n",
            "Epoch 4/500\n",
            "20/20 [==============================] - 2s 118ms/step - loss: 0.1461 - MCRMSE: 0.3802 - val_loss: 0.1284 - val_MCRMSE: 0.3565\n",
            "Epoch 5/500\n",
            "20/20 [==============================] - 2s 119ms/step - loss: 0.1376 - MCRMSE: 0.3690 - val_loss: 0.1203 - val_MCRMSE: 0.3454\n",
            "Epoch 6/500\n",
            "20/20 [==============================] - 2s 118ms/step - loss: 0.1323 - MCRMSE: 0.3620 - val_loss: 0.1215 - val_MCRMSE: 0.3470\n",
            "Epoch 7/500\n",
            "20/20 [==============================] - 2s 119ms/step - loss: 0.1293 - MCRMSE: 0.3581 - val_loss: 0.1137 - val_MCRMSE: 0.3357\n",
            "Epoch 8/500\n",
            "20/20 [==============================] - 2s 118ms/step - loss: 0.1233 - MCRMSE: 0.3494 - val_loss: 0.1109 - val_MCRMSE: 0.3317\n",
            "Epoch 9/500\n",
            "20/20 [==============================] - 2s 119ms/step - loss: 0.1219 - MCRMSE: 0.3476 - val_loss: 0.1080 - val_MCRMSE: 0.3273\n",
            "Epoch 10/500\n",
            "20/20 [==============================] - 2s 118ms/step - loss: 0.1203 - MCRMSE: 0.3455 - val_loss: 0.1069 - val_MCRMSE: 0.3256\n",
            "Epoch 11/500\n",
            "20/20 [==============================] - 2s 119ms/step - loss: 0.1172 - MCRMSE: 0.3408 - val_loss: 0.1045 - val_MCRMSE: 0.3220\n",
            "Epoch 12/500\n",
            "20/20 [==============================] - 2s 119ms/step - loss: 0.1147 - MCRMSE: 0.3370 - val_loss: 0.1025 - val_MCRMSE: 0.3190\n",
            "Epoch 13/500\n",
            "20/20 [==============================] - 2s 118ms/step - loss: 0.1136 - MCRMSE: 0.3355 - val_loss: 0.1010 - val_MCRMSE: 0.3167\n",
            "Epoch 14/500\n",
            "20/20 [==============================] - 2s 118ms/step - loss: 0.1117 - MCRMSE: 0.3329 - val_loss: 0.0992 - val_MCRMSE: 0.3137\n",
            "Epoch 15/500\n",
            "20/20 [==============================] - 2s 119ms/step - loss: 0.1106 - MCRMSE: 0.3310 - val_loss: 0.0996 - val_MCRMSE: 0.3144\n",
            "Epoch 16/500\n",
            "20/20 [==============================] - 2s 118ms/step - loss: 0.1093 - MCRMSE: 0.3289 - val_loss: 0.0953 - val_MCRMSE: 0.3074\n",
            "Epoch 17/500\n",
            "20/20 [==============================] - 2s 119ms/step - loss: 0.1077 - MCRMSE: 0.3266 - val_loss: 0.0962 - val_MCRMSE: 0.3088\n",
            "Epoch 18/500\n",
            "20/20 [==============================] - 2s 118ms/step - loss: 0.1060 - MCRMSE: 0.3241 - val_loss: 0.0933 - val_MCRMSE: 0.3042\n",
            "Epoch 19/500\n",
            "20/20 [==============================] - 2s 119ms/step - loss: 0.1048 - MCRMSE: 0.3224 - val_loss: 0.0934 - val_MCRMSE: 0.3044\n",
            "Epoch 20/500\n",
            "20/20 [==============================] - 2s 118ms/step - loss: 0.1053 - MCRMSE: 0.3229 - val_loss: 0.0908 - val_MCRMSE: 0.3001\n",
            "Epoch 21/500\n",
            "20/20 [==============================] - 2s 119ms/step - loss: 0.1032 - MCRMSE: 0.3197 - val_loss: 0.0887 - val_MCRMSE: 0.2967\n",
            "Epoch 22/500\n",
            "20/20 [==============================] - 2s 119ms/step - loss: 0.1008 - MCRMSE: 0.3159 - val_loss: 0.0858 - val_MCRMSE: 0.2917\n",
            "Epoch 23/500\n",
            "20/20 [==============================] - 2s 119ms/step - loss: 0.0993 - MCRMSE: 0.3135 - val_loss: 0.0849 - val_MCRMSE: 0.2902\n",
            "Epoch 24/500\n",
            "20/20 [==============================] - 2s 119ms/step - loss: 0.0974 - MCRMSE: 0.3106 - val_loss: 0.0823 - val_MCRMSE: 0.2858\n",
            "Epoch 25/500\n",
            "20/20 [==============================] - 2s 119ms/step - loss: 0.0971 - MCRMSE: 0.3101 - val_loss: 0.0826 - val_MCRMSE: 0.2864\n",
            "Epoch 26/500\n",
            "20/20 [==============================] - 2s 119ms/step - loss: 0.0956 - MCRMSE: 0.3077 - val_loss: 0.0818 - val_MCRMSE: 0.2850\n",
            "Epoch 27/500\n",
            "20/20 [==============================] - 2s 119ms/step - loss: 0.0948 - MCRMSE: 0.3063 - val_loss: 0.0803 - val_MCRMSE: 0.2823\n",
            "Epoch 28/500\n",
            "20/20 [==============================] - 2s 118ms/step - loss: 0.0937 - MCRMSE: 0.3047 - val_loss: 0.0778 - val_MCRMSE: 0.2779\n",
            "Epoch 29/500\n",
            "20/20 [==============================] - 2s 119ms/step - loss: 0.0915 - MCRMSE: 0.3011 - val_loss: 0.0767 - val_MCRMSE: 0.2759\n",
            "Epoch 30/500\n",
            "20/20 [==============================] - 2s 119ms/step - loss: 0.0914 - MCRMSE: 0.3010 - val_loss: 0.0766 - val_MCRMSE: 0.2757\n",
            "Epoch 31/500\n",
            "20/20 [==============================] - 2s 119ms/step - loss: 0.0913 - MCRMSE: 0.3010 - val_loss: 0.0761 - val_MCRMSE: 0.2749\n",
            "Epoch 32/500\n",
            "20/20 [==============================] - 2s 118ms/step - loss: 0.0908 - MCRMSE: 0.3000 - val_loss: 0.0751 - val_MCRMSE: 0.2731\n",
            "Epoch 33/500\n",
            "20/20 [==============================] - 2s 119ms/step - loss: 0.0885 - MCRMSE: 0.2961 - val_loss: 0.0765 - val_MCRMSE: 0.2757\n",
            "Epoch 34/500\n",
            "20/20 [==============================] - 2s 119ms/step - loss: 0.0896 - MCRMSE: 0.2979 - val_loss: 0.0740 - val_MCRMSE: 0.2711\n",
            "Epoch 35/500\n",
            "20/20 [==============================] - 2s 118ms/step - loss: 0.0873 - MCRMSE: 0.2940 - val_loss: 0.0743 - val_MCRMSE: 0.2717\n",
            "Epoch 36/500\n",
            "20/20 [==============================] - 2s 119ms/step - loss: 0.0872 - MCRMSE: 0.2939 - val_loss: 0.0729 - val_MCRMSE: 0.2688\n",
            "Epoch 37/500\n",
            "20/20 [==============================] - 2s 119ms/step - loss: 0.0866 - MCRMSE: 0.2928 - val_loss: 0.0725 - val_MCRMSE: 0.2681\n",
            "Epoch 38/500\n",
            "20/20 [==============================] - 2s 120ms/step - loss: 0.0870 - MCRMSE: 0.2936 - val_loss: 0.0719 - val_MCRMSE: 0.2671\n",
            "Epoch 39/500\n",
            "20/20 [==============================] - 2s 117ms/step - loss: 0.0847 - MCRMSE: 0.2898 - val_loss: 0.0717 - val_MCRMSE: 0.2667\n",
            "Epoch 40/500\n",
            "20/20 [==============================] - 2s 119ms/step - loss: 0.0845 - MCRMSE: 0.2893 - val_loss: 0.0717 - val_MCRMSE: 0.2668\n",
            "Epoch 41/500\n",
            "20/20 [==============================] - 2s 118ms/step - loss: 0.0825 - MCRMSE: 0.2860 - val_loss: 0.0702 - val_MCRMSE: 0.2639\n",
            "Epoch 42/500\n",
            "20/20 [==============================] - 2s 118ms/step - loss: 0.0826 - MCRMSE: 0.2860 - val_loss: 0.0700 - val_MCRMSE: 0.2635\n",
            "Epoch 43/500\n",
            "20/20 [==============================] - 2s 119ms/step - loss: 0.0812 - MCRMSE: 0.2835 - val_loss: 0.0695 - val_MCRMSE: 0.2625\n",
            "Epoch 44/500\n",
            "20/20 [==============================] - 2s 118ms/step - loss: 0.0823 - MCRMSE: 0.2855 - val_loss: 0.0690 - val_MCRMSE: 0.2617\n",
            "Epoch 45/500\n",
            "20/20 [==============================] - 2s 119ms/step - loss: 0.0819 - MCRMSE: 0.2850 - val_loss: 0.0724 - val_MCRMSE: 0.2681\n",
            "Epoch 46/500\n",
            "20/20 [==============================] - 2s 118ms/step - loss: 0.0814 - MCRMSE: 0.2842 - val_loss: 0.0690 - val_MCRMSE: 0.2619\n",
            "Epoch 47/500\n",
            "20/20 [==============================] - 2s 120ms/step - loss: 0.0801 - MCRMSE: 0.2818 - val_loss: 0.0716 - val_MCRMSE: 0.2667\n",
            "Epoch 48/500\n",
            "20/20 [==============================] - 2s 119ms/step - loss: 0.0799 - MCRMSE: 0.2814 - val_loss: 0.0686 - val_MCRMSE: 0.2609\n",
            "Epoch 49/500\n",
            "20/20 [==============================] - 2s 118ms/step - loss: 0.0797 - MCRMSE: 0.2813 - val_loss: 0.0700 - val_MCRMSE: 0.2635\n",
            "Epoch 50/500\n",
            "20/20 [==============================] - 2s 119ms/step - loss: 0.0779 - MCRMSE: 0.2780 - val_loss: 0.0672 - val_MCRMSE: 0.2583\n",
            "Epoch 51/500\n",
            "20/20 [==============================] - 2s 118ms/step - loss: 0.0780 - MCRMSE: 0.2781 - val_loss: 0.0669 - val_MCRMSE: 0.2577\n",
            "Epoch 52/500\n",
            "20/20 [==============================] - 2s 119ms/step - loss: 0.0772 - MCRMSE: 0.2765 - val_loss: 0.0667 - val_MCRMSE: 0.2573\n",
            "Epoch 53/500\n",
            "20/20 [==============================] - 2s 120ms/step - loss: 0.0776 - MCRMSE: 0.2772 - val_loss: 0.0677 - val_MCRMSE: 0.2591\n",
            "Epoch 54/500\n",
            "20/20 [==============================] - 2s 119ms/step - loss: 0.0764 - MCRMSE: 0.2751 - val_loss: 0.0662 - val_MCRMSE: 0.2562\n",
            "Epoch 55/500\n",
            "20/20 [==============================] - 2s 119ms/step - loss: 0.0763 - MCRMSE: 0.2749 - val_loss: 0.0684 - val_MCRMSE: 0.2606\n",
            "Epoch 56/500\n",
            "20/20 [==============================] - 2s 119ms/step - loss: 0.0748 - MCRMSE: 0.2722 - val_loss: 0.0671 - val_MCRMSE: 0.2579\n",
            "Epoch 57/500\n",
            "20/20 [==============================] - 2s 119ms/step - loss: 0.0760 - MCRMSE: 0.2745 - val_loss: 0.0666 - val_MCRMSE: 0.2571\n",
            "Epoch 58/500\n",
            "20/20 [==============================] - 2s 120ms/step - loss: 0.0750 - MCRMSE: 0.2727 - val_loss: 0.0674 - val_MCRMSE: 0.2586\n",
            "Epoch 59/500\n",
            "20/20 [==============================] - 2s 119ms/step - loss: 0.0748 - MCRMSE: 0.2724 - val_loss: 0.0656 - val_MCRMSE: 0.2551\n",
            "Epoch 60/500\n",
            "20/20 [==============================] - 2s 119ms/step - loss: 0.0745 - MCRMSE: 0.2718 - val_loss: 0.0680 - val_MCRMSE: 0.2597\n",
            "Epoch 61/500\n",
            "20/20 [==============================] - 2s 119ms/step - loss: 0.0740 - MCRMSE: 0.2707 - val_loss: 0.0654 - val_MCRMSE: 0.2547\n",
            "Epoch 62/500\n",
            "20/20 [==============================] - 2s 119ms/step - loss: 0.0743 - MCRMSE: 0.2714 - val_loss: 0.0652 - val_MCRMSE: 0.2542\n",
            "Epoch 63/500\n",
            "20/20 [==============================] - 2s 119ms/step - loss: 0.0732 - MCRMSE: 0.2693 - val_loss: 0.0670 - val_MCRMSE: 0.2577\n",
            "Epoch 64/500\n",
            "20/20 [==============================] - 2s 120ms/step - loss: 0.0738 - MCRMSE: 0.2706 - val_loss: 0.0647 - val_MCRMSE: 0.2532\n",
            "Epoch 65/500\n",
            "20/20 [==============================] - 2s 119ms/step - loss: 0.0712 - MCRMSE: 0.2659 - val_loss: 0.0643 - val_MCRMSE: 0.2525\n",
            "Epoch 66/500\n",
            "20/20 [==============================] - 2s 120ms/step - loss: 0.0710 - MCRMSE: 0.2653 - val_loss: 0.0661 - val_MCRMSE: 0.2559\n",
            "Epoch 67/500\n",
            "20/20 [==============================] - 2s 119ms/step - loss: 0.0720 - MCRMSE: 0.2669 - val_loss: 0.0635 - val_MCRMSE: 0.2510\n",
            "Epoch 68/500\n",
            "20/20 [==============================] - 2s 119ms/step - loss: 0.0706 - MCRMSE: 0.2648 - val_loss: 0.0648 - val_MCRMSE: 0.2534\n",
            "Epoch 69/500\n",
            "20/20 [==============================] - 2s 119ms/step - loss: 0.0718 - MCRMSE: 0.2667 - val_loss: 0.0638 - val_MCRMSE: 0.2516\n",
            "Epoch 70/500\n",
            "20/20 [==============================] - 2s 119ms/step - loss: 0.0702 - MCRMSE: 0.2638 - val_loss: 0.0630 - val_MCRMSE: 0.2499\n",
            "Epoch 71/500\n",
            "20/20 [==============================] - 2s 118ms/step - loss: 0.0699 - MCRMSE: 0.2631 - val_loss: 0.0641 - val_MCRMSE: 0.2522\n",
            "Epoch 72/500\n",
            "20/20 [==============================] - 2s 121ms/step - loss: 0.0695 - MCRMSE: 0.2624 - val_loss: 0.0631 - val_MCRMSE: 0.2502\n",
            "Epoch 73/500\n",
            "20/20 [==============================] - 2s 122ms/step - loss: 0.0691 - MCRMSE: 0.2617 - val_loss: 0.0637 - val_MCRMSE: 0.2512\n",
            "Epoch 74/500\n",
            "20/20 [==============================] - 2s 120ms/step - loss: 0.0692 - MCRMSE: 0.2621 - val_loss: 0.0627 - val_MCRMSE: 0.2493\n",
            "Epoch 75/500\n",
            "20/20 [==============================] - 2s 121ms/step - loss: 0.0697 - MCRMSE: 0.2630 - val_loss: 0.0623 - val_MCRMSE: 0.2486\n",
            "Epoch 76/500\n",
            "20/20 [==============================] - 2s 119ms/step - loss: 0.0682 - MCRMSE: 0.2602 - val_loss: 0.0638 - val_MCRMSE: 0.2514\n",
            "Epoch 77/500\n",
            "20/20 [==============================] - 2s 120ms/step - loss: 0.0680 - MCRMSE: 0.2598 - val_loss: 0.0628 - val_MCRMSE: 0.2496\n",
            "Epoch 78/500\n",
            "20/20 [==============================] - 2s 119ms/step - loss: 0.0678 - MCRMSE: 0.2594 - val_loss: 0.0637 - val_MCRMSE: 0.2514\n",
            "Epoch 79/500\n",
            "20/20 [==============================] - 2s 120ms/step - loss: 0.0678 - MCRMSE: 0.2592 - val_loss: 0.0627 - val_MCRMSE: 0.2492\n",
            "Epoch 80/500\n",
            "20/20 [==============================] - 2s 119ms/step - loss: 0.0673 - MCRMSE: 0.2583 - val_loss: 0.0633 - val_MCRMSE: 0.2504\n",
            "Epoch 81/500\n",
            "20/20 [==============================] - 2s 120ms/step - loss: 0.0641 - MCRMSE: 0.2522 - val_loss: 0.0624 - val_MCRMSE: 0.2487\n",
            "Epoch 82/500\n",
            "20/20 [==============================] - 2s 118ms/step - loss: 0.0644 - MCRMSE: 0.2525 - val_loss: 0.0619 - val_MCRMSE: 0.2477\n",
            "Epoch 83/500\n",
            "20/20 [==============================] - 2s 118ms/step - loss: 0.0641 - MCRMSE: 0.2519 - val_loss: 0.0617 - val_MCRMSE: 0.2472\n",
            "Epoch 84/500\n",
            "20/20 [==============================] - 2s 119ms/step - loss: 0.0643 - MCRMSE: 0.2525 - val_loss: 0.0618 - val_MCRMSE: 0.2474\n",
            "Epoch 85/500\n",
            "20/20 [==============================] - 2s 119ms/step - loss: 0.0633 - MCRMSE: 0.2507 - val_loss: 0.0616 - val_MCRMSE: 0.2470\n",
            "Epoch 86/500\n",
            "20/20 [==============================] - 2s 120ms/step - loss: 0.0639 - MCRMSE: 0.2516 - val_loss: 0.0618 - val_MCRMSE: 0.2475\n",
            "Epoch 87/500\n",
            "20/20 [==============================] - 2s 119ms/step - loss: 0.0637 - MCRMSE: 0.2513 - val_loss: 0.0616 - val_MCRMSE: 0.2470\n",
            "Epoch 88/500\n",
            "20/20 [==============================] - 2s 119ms/step - loss: 0.0644 - MCRMSE: 0.2525 - val_loss: 0.0617 - val_MCRMSE: 0.2473\n",
            "Epoch 89/500\n",
            "20/20 [==============================] - 2s 119ms/step - loss: 0.0635 - MCRMSE: 0.2510 - val_loss: 0.0614 - val_MCRMSE: 0.2466\n",
            "Epoch 90/500\n",
            "20/20 [==============================] - 2s 119ms/step - loss: 0.0640 - MCRMSE: 0.2517 - val_loss: 0.0612 - val_MCRMSE: 0.2462\n",
            "Epoch 91/500\n",
            "20/20 [==============================] - 2s 119ms/step - loss: 0.0637 - MCRMSE: 0.2512 - val_loss: 0.0619 - val_MCRMSE: 0.2476\n",
            "Epoch 92/500\n",
            "20/20 [==============================] - 2s 120ms/step - loss: 0.0634 - MCRMSE: 0.2507 - val_loss: 0.0617 - val_MCRMSE: 0.2472\n",
            "Epoch 93/500\n",
            "20/20 [==============================] - 2s 119ms/step - loss: 0.0632 - MCRMSE: 0.2502 - val_loss: 0.0616 - val_MCRMSE: 0.2471\n",
            "Epoch 94/500\n",
            "20/20 [==============================] - 2s 120ms/step - loss: 0.0635 - MCRMSE: 0.2511 - val_loss: 0.0612 - val_MCRMSE: 0.2463\n",
            "Epoch 95/500\n",
            "20/20 [==============================] - 2s 119ms/step - loss: 0.0632 - MCRMSE: 0.2503 - val_loss: 0.0616 - val_MCRMSE: 0.2471\n",
            "Epoch 96/500\n",
            "20/20 [==============================] - 2s 119ms/step - loss: 0.0633 - MCRMSE: 0.2506 - val_loss: 0.0615 - val_MCRMSE: 0.2469\n",
            "Epoch 97/500\n",
            "20/20 [==============================] - 2s 121ms/step - loss: 0.0635 - MCRMSE: 0.2509 - val_loss: 0.0614 - val_MCRMSE: 0.2467\n",
            "Epoch 98/500\n",
            "20/20 [==============================] - 2s 119ms/step - loss: 0.0639 - MCRMSE: 0.2516 - val_loss: 0.0612 - val_MCRMSE: 0.2463\n",
            "Epoch 99/500\n",
            "20/20 [==============================] - 2s 120ms/step - loss: 0.0638 - MCRMSE: 0.2517 - val_loss: 0.0612 - val_MCRMSE: 0.2462\n",
            "Epoch 100/500\n",
            "20/20 [==============================] - 2s 120ms/step - loss: 0.0629 - MCRMSE: 0.2497 - val_loss: 0.0612 - val_MCRMSE: 0.2463\n",
            "Epoch 101/500\n",
            "20/20 [==============================] - 2s 120ms/step - loss: 0.0629 - MCRMSE: 0.2499 - val_loss: 0.0612 - val_MCRMSE: 0.2463\n",
            "Epoch 102/500\n",
            "20/20 [==============================] - 2s 119ms/step - loss: 0.0633 - MCRMSE: 0.2506 - val_loss: 0.0612 - val_MCRMSE: 0.2463\n",
            "Epoch 103/500\n",
            "20/20 [==============================] - 2s 120ms/step - loss: 0.0625 - MCRMSE: 0.2490 - val_loss: 0.0612 - val_MCRMSE: 0.2463\n",
            "Epoch 104/500\n",
            "20/20 [==============================] - 2s 119ms/step - loss: 0.0625 - MCRMSE: 0.2489 - val_loss: 0.0612 - val_MCRMSE: 0.2463\n",
            "Epoch 105/500\n",
            "20/20 [==============================] - 2s 119ms/step - loss: 0.0629 - MCRMSE: 0.2499 - val_loss: 0.0612 - val_MCRMSE: 0.2463\n",
            "Epoch 106/500\n",
            "20/20 [==============================] - 2s 120ms/step - loss: 0.0628 - MCRMSE: 0.2495 - val_loss: 0.0612 - val_MCRMSE: 0.2463\n",
            "Epoch 107/500\n",
            "20/20 [==============================] - 2s 119ms/step - loss: 0.0627 - MCRMSE: 0.2495 - val_loss: 0.0612 - val_MCRMSE: 0.2463\n",
            "Epoch 108/500\n",
            "20/20 [==============================] - 2s 120ms/step - loss: 0.0633 - MCRMSE: 0.2506 - val_loss: 0.0612 - val_MCRMSE: 0.2463\n",
            "Epoch 109/500\n",
            "20/20 [==============================] - 2s 118ms/step - loss: 0.0640 - MCRMSE: 0.2519 - val_loss: 0.0612 - val_MCRMSE: 0.2463\n"
          ],
          "name": "stdout"
        }
      ]
    },
    {
      "cell_type": "code",
      "metadata": {
        "id": "tkH2wJReJXaI"
      },
      "source": [
        "test_private_vienna = test_df_vienna[test_df_vienna.seq_length == 130]\n",
        "test_public_vienna = test_df_vienna[test_df_vienna.seq_length == 107]\n",
        "\n",
        "# traitement des data pour le réseau\n",
        "inputs_public_vienna = merge_inputs(preprocess_inputs(test_public_vienna, input_cols))\n",
        "inputs_private_vienna = merge_inputs(preprocess_inputs(test_private_vienna, input_cols))"
      ],
      "execution_count": 100,
      "outputs": []
    },
    {
      "cell_type": "code",
      "metadata": {
        "id": "SNHXXsBGOub6"
      },
      "source": [
        "# Evaluation fichier test\n",
        "\n",
        "model_public_vienna = build_gru(107)\n",
        "model_public_vienna.load_weights('trained_vienna.h5')\n",
        "\n",
        "model_private_vienna = build_gru(130)\n",
        "model_private_vienna.load_weights('trained_vienna.h5')\n",
        "\n",
        "public_full_predicted_vienna = model_public_vienna.predict(inputs_public_vienna)\n",
        "private_full_predicted_vienna = model_private_vienna.predict(inputs_private_vienna)"
      ],
      "execution_count": 101,
      "outputs": []
    },
    {
      "cell_type": "code",
      "metadata": {
        "id": "SIQJJpsJhyzx",
        "outputId": "4f602181-a69f-4535-f5ea-81e31cf82a0a",
        "colab": {
          "base_uri": "https://localhost:8080/",
          "height": 17
        }
      },
      "source": [
        "submission_model_vienna = submission_into_csv(test_public = test_public_vienna, \n",
        "                                              test_private = test_private_vienna, \n",
        "                                              public_predicted = public_full_predicted_vienna,\n",
        "                                              private_predicted = private_full_predicted_vienna)\n",
        "submission_model_vienna.head(4)\n",
        "submission_model_vienna.to_csv('submission_vienna.csv', index=False)\n",
        "files.download('submission_vienna.csv')"
      ],
      "execution_count": 104,
      "outputs": [
        {
          "output_type": "display_data",
          "data": {
            "application/javascript": [
              "\n",
              "    async function download(id, filename, size) {\n",
              "      if (!google.colab.kernel.accessAllowed) {\n",
              "        return;\n",
              "      }\n",
              "      const div = document.createElement('div');\n",
              "      const label = document.createElement('label');\n",
              "      label.textContent = `Downloading \"${filename}\": `;\n",
              "      div.appendChild(label);\n",
              "      const progress = document.createElement('progress');\n",
              "      progress.max = size;\n",
              "      div.appendChild(progress);\n",
              "      document.body.appendChild(div);\n",
              "\n",
              "      const buffers = [];\n",
              "      let downloaded = 0;\n",
              "\n",
              "      const channel = await google.colab.kernel.comms.open(id);\n",
              "      // Send a message to notify the kernel that we're ready.\n",
              "      channel.send({})\n",
              "\n",
              "      for await (const message of channel.messages) {\n",
              "        // Send a message to notify the kernel that we're ready.\n",
              "        channel.send({})\n",
              "        if (message.buffers) {\n",
              "          for (const buffer of message.buffers) {\n",
              "            buffers.push(buffer);\n",
              "            downloaded += buffer.byteLength;\n",
              "            progress.value = downloaded;\n",
              "          }\n",
              "        }\n",
              "      }\n",
              "      const blob = new Blob(buffers, {type: 'application/binary'});\n",
              "      const a = document.createElement('a');\n",
              "      a.href = window.URL.createObjectURL(blob);\n",
              "      a.download = filename;\n",
              "      div.appendChild(a);\n",
              "      a.click();\n",
              "      div.remove();\n",
              "    }\n",
              "  "
            ],
            "text/plain": [
              "<IPython.core.display.Javascript object>"
            ]
          },
          "metadata": {
            "tags": []
          }
        },
        {
          "output_type": "display_data",
          "data": {
            "application/javascript": [
              "download(\"download_d2cb6c61-c503-4efc-855f-e677828dde55\", \"submission_vienna.csv\", 31848280)"
            ],
            "text/plain": [
              "<IPython.core.display.Javascript object>"
            ]
          },
          "metadata": {
            "tags": []
          }
        }
      ]
    },
    {
      "cell_type": "code",
      "metadata": {
        "id": "cDMgVl9L0JVN",
        "outputId": "df0824cf-118b-4b1e-c98e-70dca5b4f61a",
        "colab": {
          "base_uri": "https://localhost:8080/",
          "height": 173
        }
      },
      "source": [
        "submission_model_vienna.head(4)"
      ],
      "execution_count": 103,
      "outputs": [
        {
          "output_type": "execute_result",
          "data": {
            "text/html": [
              "<div>\n",
              "<style scoped>\n",
              "    .dataframe tbody tr th:only-of-type {\n",
              "        vertical-align: middle;\n",
              "    }\n",
              "\n",
              "    .dataframe tbody tr th {\n",
              "        vertical-align: top;\n",
              "    }\n",
              "\n",
              "    .dataframe thead th {\n",
              "        text-align: right;\n",
              "    }\n",
              "</style>\n",
              "<table border=\"1\" class=\"dataframe\">\n",
              "  <thead>\n",
              "    <tr style=\"text-align: right;\">\n",
              "      <th></th>\n",
              "      <th>id_seqpos</th>\n",
              "      <th>reactivity</th>\n",
              "      <th>deg_Mg_pH10</th>\n",
              "      <th>deg_Mg_50C</th>\n",
              "      <th>deg_pH10</th>\n",
              "      <th>deg_50C</th>\n",
              "    </tr>\n",
              "  </thead>\n",
              "  <tbody>\n",
              "    <tr>\n",
              "      <th>0</th>\n",
              "      <td>id_00073f8be_0</td>\n",
              "      <td>0.715888</td>\n",
              "      <td>0.883645</td>\n",
              "      <td>0.848498</td>\n",
              "      <td>2.297472</td>\n",
              "      <td>0.942759</td>\n",
              "    </tr>\n",
              "    <tr>\n",
              "      <th>1</th>\n",
              "      <td>id_00073f8be_1</td>\n",
              "      <td>1.443379</td>\n",
              "      <td>1.595993</td>\n",
              "      <td>1.634332</td>\n",
              "      <td>2.561034</td>\n",
              "      <td>1.556827</td>\n",
              "    </tr>\n",
              "    <tr>\n",
              "      <th>2</th>\n",
              "      <td>id_00073f8be_2</td>\n",
              "      <td>1.457093</td>\n",
              "      <td>1.262169</td>\n",
              "      <td>1.583681</td>\n",
              "      <td>1.643831</td>\n",
              "      <td>1.441732</td>\n",
              "    </tr>\n",
              "    <tr>\n",
              "      <th>3</th>\n",
              "      <td>id_00073f8be_3</td>\n",
              "      <td>1.156774</td>\n",
              "      <td>0.958721</td>\n",
              "      <td>1.294116</td>\n",
              "      <td>1.069380</td>\n",
              "      <td>1.128269</td>\n",
              "    </tr>\n",
              "  </tbody>\n",
              "</table>\n",
              "</div>"
            ],
            "text/plain": [
              "        id_seqpos  reactivity  deg_Mg_pH10  deg_Mg_50C  deg_pH10   deg_50C\n",
              "0  id_00073f8be_0    0.715888     0.883645    0.848498  2.297472  0.942759\n",
              "1  id_00073f8be_1    1.443379     1.595993    1.634332  2.561034  1.556827\n",
              "2  id_00073f8be_2    1.457093     1.262169    1.583681  1.643831  1.441732\n",
              "3  id_00073f8be_3    1.156774     0.958721    1.294116  1.069380  1.128269"
            ]
          },
          "metadata": {
            "tags": []
          },
          "execution_count": 103
        }
      ]
    }
  ]
}